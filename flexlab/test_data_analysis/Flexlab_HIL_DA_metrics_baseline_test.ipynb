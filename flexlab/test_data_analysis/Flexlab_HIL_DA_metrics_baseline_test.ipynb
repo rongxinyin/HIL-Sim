{
 "cells": [
  {
   "cell_type": "code",
   "execution_count": 5,
   "metadata": {},
   "outputs": [],
   "source": [
    "# GENERAL PACKAGE IMPORT\n",
    "# ----------------------\n",
    "from db_interface import DB_Interface\n",
    "import requests\n",
    "import numpy as np\n",
    "import json\n",
    "import pandas as pd\n",
    "from pandas import DataFrame\n",
    "from io import StringIO\n",
    "\n",
    "import datetime as dt\n",
    "import datetime\n",
    "import matplotlib\n",
    "import matplotlib.pyplot as plt\n",
    "import seaborn as sns\n",
    "\n",
    "from matplotlib.dates import date2num\n",
    "import seaborn\n",
    "import timeit\n",
    "import json\n",
    "import pickle\n",
    "\n",
    "import matplotlib.pyplot as plt\n",
    "#import oa_temp as oa\n",
    "#import sa_temp as sa\n",
    "import datetime\n",
    "import db_plotting"
   ]
  },
  {
   "cell_type": "code",
   "execution_count": 6,
   "metadata": {},
   "outputs": [],
   "source": [
    "data20 = pd.read_csv('data20_revised.csv', index_col = 0, parse_dates = True)\n",
    "data21 = pd.read_csv('data21_revised.csv', index_col = 0, parse_dates = True)"
   ]
  },
  {
   "cell_type": "code",
   "execution_count": 7,
   "metadata": {},
   "outputs": [],
   "source": [
    "data20['datetime'] = pd.to_datetime(data20['datetime'])\n",
    "data21['datetime'] = pd.to_datetime(data21['datetime'])"
   ]
  },
  {
   "cell_type": "code",
   "execution_count": 8,
   "metadata": {
    "scrolled": false
   },
   "outputs": [
    {
     "name": "stdout",
     "output_type": "stream",
     "text": [
      "<class 'pandas._libs.tslibs.timestamps.Timestamp'>\n",
      "<class 'datetime.time'>\n"
     ]
    }
   ],
   "source": [
    "print(type(data21['datetime'].iloc[0]))\n",
    "print(type(datetime.time(14,0,0)))\n",
    "\n",
    "data20['date'] = data20['datetime'].apply(lambda x: datetime.date(x.year, x.month, x.day))\n",
    "data20['time'] = data20['datetime'].apply(lambda x: datetime.time(x.hour, x.minute, x.second))\n",
    "\n",
    "data21['date'] = data21['datetime'].apply(lambda x: datetime.date(x.year, x.month, x.day))\n",
    "data21['time'] = data21['datetime'].apply(lambda x: datetime.time(x.hour, x.minute, x.second))"
   ]
  },
  {
   "cell_type": "code",
   "execution_count": 9,
   "metadata": {},
   "outputs": [
    {
     "name": "stdout",
     "output_type": "stream",
     "text": [
      "Index(['desk1_6_light_power', 'desk1_plug_power', 'desk2_light_power',\n",
      "       'desk2_plug_power', 'desk3_light_power', 'desk3_plug_power',\n",
      "       'desk4_light_power', 'desk4_plug_power', 'desk5_light_power',\n",
      "       'desk5_plug_power', 'desk6_plug_power', '1A-VAV1-Zn_Temp',\n",
      "       '1A-VAV2-Zn_Temp', '1A-VAV3-Zn_Temp', '1A-VAV1-OccupiedCoolingSetpt',\n",
      "       '1A-VAV1-OccupiedHeatingSetpt', '1A-VAV1-UnoccupiedCoolingSetpt',\n",
      "       '1A-VAV1-UnoccupiedHeatingSetpt', '1A-VAV2-OccupiedCoolingSetpt',\n",
      "       '1A-VAV2-OccupiedHeatingSetpt', '1A-VAV2-UnoccupiedCoolingSetpt',\n",
      "       '1A-VAV2-UnoccupiedHeatingSetpt', '1A-VAV3-OccupiedCoolingSetpt',\n",
      "       '1A-VAV3-OccupiedHeatingSetpt', '1A-VAV3-UnoccupiedCoolingSetpt',\n",
      "       '1A-VAV3-UnoccupiedHeatingSetpt', '1A-El-AHU', '1A-El-CHWP',\n",
      "       '1A-El-Exhaust Fan', '1A-El-HWP', '1A-Th-Chilled Water', '1B-OAT-1',\n",
      "       'datetime', 'date', 'time'],\n",
      "      dtype='object')\n"
     ]
    }
   ],
   "source": [
    "print(data20.columns)"
   ]
  },
  {
   "cell_type": "markdown",
   "metadata": {},
   "source": [
    "### Metrics"
   ]
  },
  {
   "cell_type": "code",
   "execution_count": 10,
   "metadata": {},
   "outputs": [],
   "source": [
    "data20 = data20.assign(COP='COP') \n",
    "#data20['COP'] = data20['oat_C'].apply(lambda x: (0.548 + 0.0951*x + (-7.63E-04)*x**2))\n",
    "data20['COP'] = 2.9\n",
    "data21 = data21.assign(COP='COP') \n",
    "#data21['COP'] = data21['oat_C'].apply(lambda x: (0.548 + 0.0951*x + (-7.63E-04)*x**2))\n",
    "data21['COP'] = 2.9"
   ]
  },
  {
   "cell_type": "code",
   "execution_count": 11,
   "metadata": {},
   "outputs": [],
   "source": [
    "data20 = data20.assign(chiller = 'Chiller_load') \n",
    "data20['Chiller_load'] = (data20['1A-Th-Chilled Water']/data20['COP']) *-1\n",
    "data20['cooling_power [W]'] = data20['1A-El-AHU'] + data20['1A-El-Exhaust Fan'] + data20['1A-El-CHWP'] + data20['Chiller_load']\n",
    "\n",
    "data21 = data21.assign(chiller = 'Chiller_load') \n",
    "data21['Chiller_load'] = (data21['1B-Th-Chilled Water']/data21['COP']) *-1\n",
    "data21['cooling_power [W]'] = data21['1B-El-AHU'] + data21['1B-El-Exhaust Fan'] + data21['1B-El-CHWP'] + data21['Chiller_load']"
   ]
  },
  {
   "cell_type": "code",
   "execution_count": 12,
   "metadata": {},
   "outputs": [
    {
     "name": "stdout",
     "output_type": "stream",
     "text": [
      "10\n",
      "11\n",
      "12\n",
      "13\n",
      "14\n",
      "15\n",
      "[17.92, 18.01, 18.5, 19.44, 20.49, 20.59]\n"
     ]
    }
   ],
   "source": [
    "en_1a = []\n",
    "en_1b = []\n",
    "\n",
    "# define dates for the calculation\n",
    "for day in range(10, 16):    \n",
    "    mask_1 = data21['date'] == datetime.date(2021, 8, day)\n",
    "    print(day)\n",
    "    day_en_1a = round((data20['cooling_power [W]'][mask_1].sum()/4000),2)\n",
    "    en_1a.append(day_en_1a)\n",
    "      \n",
    "    day_en_1b = round((data21['cooling_power [W]'][mask_1].sum()/4000),2)\n",
    "    en_1b.append(day_en_1b)\n",
    "print(en_1a)"
   ]
  },
  {
   "cell_type": "code",
   "execution_count": 13,
   "metadata": {},
   "outputs": [
    {
     "name": "stderr",
     "output_type": "stream",
     "text": [
      "C:\\Users\\agarw\\Desktop\\LBNL\\BTUS - HIL\\Test results\\HIL-Sim-main_process\\HIL-Sim-main\\flexlab\\db_layer\\db_plotting.py:38: UserWarning: This figure was using constrained_layout==True, but that is incompatible with subplots_adjust and or tight_layout: setting constrained_layout==False. \n",
      "  fig.subplots_adjust(hspace = .2, wspace=.15)\n"
     ]
    },
    {
     "name": "stdout",
     "output_type": "stream",
     "text": [
      "['08/09', '08/10', '08/11', '08/12', '08/13', '08/14', '08/15']\n",
      "[datetime.date(2021, 8, 9), datetime.date(2021, 8, 10), datetime.date(2021, 8, 11), datetime.date(2021, 8, 12), datetime.date(2021, 8, 13), datetime.date(2021, 8, 14), datetime.date(2021, 8, 15)]\n",
      "6\n",
      "[17.92, 18.01, 18.5, 19.44, 20.49, 20.59]\n"
     ]
    },
    {
     "data": {
      "image/png": "[encoded data removed]",
      "text/plain": [
       "<Figure size 1296x648 with 1 Axes>"
      ]
     },
     "metadata": {},
     "output_type": "display_data"
    }
   ],
   "source": [
    "db_plotting.energy_plot(data21, en_1a, en_1b, 'Daily Energy consumption (kWh)', 'Energy (kWh)')"
   ]
  },
  {
   "cell_type": "markdown",
   "metadata": {},
   "source": [
    "### Thermal comfort"
   ]
  },
  {
   "cell_type": "code",
   "execution_count": 14,
   "metadata": {},
   "outputs": [],
   "source": [
    "data20 = data20.assign(nor_zat_deg = 'nor_zat_deg') \n",
    "#for i in range(len(data20.index)):\n",
    "\n",
    "def zat_col(df_zat, df_cool_sp):\n",
    "    df_zat = df_zat.apply(lambda x: (x-32)/1.8)\n",
    "    df_cool_sp = df_cool_sp.apply(lambda x: (x-32)/1.8)\n",
    "    \n",
    "    df_zat_deg = df_zat - df_cool_sp\n",
    "    df_zat_deg = df_zat_deg.apply(lambda x:0 if x <= 0 else x)\n",
    "    return (df_zat_deg)"
   ]
  },
  {
   "cell_type": "code",
   "execution_count": 15,
   "metadata": {},
   "outputs": [],
   "source": [
    "data20['nor_zat_deg'] = zat_col(data20['1A-VAV1-Zn_Temp'], data20['1A-VAV1-OccupiedCoolingSetpt'])\n",
    "data20['cor_zat_deg'] = zat_col(data20['1A-VAV3-Zn_Temp'], data20['1A-VAV2-OccupiedCoolingSetpt'])\n",
    "data20['sou_zat_deg'] = zat_col(data20['1A-VAV3-Zn_Temp'], data20['1A-VAV3-OccupiedCoolingSetpt'])\n",
    "\n",
    "data21['nor_zat_deg'] = zat_col(data21['1B-VAV1-Zn_Temp'], data21['1B-VAV1-OccupiedCoolingSetpt'])\n",
    "data21['cor_zat_deg'] = zat_col(data21['1B-VAV2-Zn_Temp'], data21['1B-VAV2-OccupiedCoolingSetpt'])\n",
    "data21['sou_zat_deg'] = zat_col(data21['1B-VAV3-Zn_Temp'], data21['1B-VAV3-OccupiedCoolingSetpt'])"
   ]
  },
  {
   "cell_type": "code",
   "execution_count": 16,
   "metadata": {},
   "outputs": [],
   "source": [
    "def calc_stats(df, df_temp):\n",
    "   \n",
    "    overshoot = []\n",
    "    mean = []\n",
    "    median = []\n",
    "    std = []\n",
    "    oc_st = datetime.time(7,0,0)\n",
    "    oc_en = datetime.time(19,0,0)\n",
    "\n",
    "    oc_time = ((df['time'] >= oc_st) & (df['time'] <= oc_en))\n",
    "\n",
    "    #print(df_temp, df['Tcool_SP'])\n",
    "        \n",
    "    for day in range(9, 16):    \n",
    "        mask_1 = data21['date'] == datetime.date(2021, 8, day)\n",
    "        daily_mean = df_temp[mask_1][oc_time].mean()\n",
    "        daily_median = df_temp[mask_1][oc_time].median()\n",
    "        #print('Variance', df[df[i] > target[i]].var())\n",
    "        daily_std = df_temp[mask_1][oc_time].std()\n",
    "        \n",
    "        mean.append(daily_mean)\n",
    "        median.append(daily_median)\n",
    "        std.append(daily_std)\n",
    "        \n",
    "    #for i in range(len(df.index)):\n",
    "        #if (df['time'][i] <= oc_en) & (df['time'][i] >= oc_st):\n",
    "        #print(df_temp[i], df['Tcool_SP'][i], df_temp[i] - df['Tcool_SP'][i])\n",
    "        daily_shoot = sum(df_temp[mask_1][oc_time]*.25)\n",
    "        counter = sum(df_temp[mask_1][oc_time]>0)\n",
    "        overshoot.append(daily_shoot)\n",
    "        \n",
    "        #print(day)\n",
    "    #print(mean, median, std)\n",
    "    \n",
    "    return(overshoot, mean, median, std)"
   ]
  },
  {
   "cell_type": "code",
   "execution_count": 17,
   "metadata": {
    "scrolled": false
   },
   "outputs": [],
   "source": [
    "data20_nor_zat_deg, data20_nor_mean, data20_nor_median, data20_nor_std = calc_stats(data20, data20['nor_zat_deg'])\n",
    "data20_cor_zat_deg, data20_cor_mean, data20_cor_median, data20_cor_std = calc_stats(data20, data20['cor_zat_deg'])\n",
    "data20_sou_zat_deg, data20_sou_mean, data20_sou_median, data20_sou_std = calc_stats(data20, data20['sou_zat_deg'])\n",
    "\n",
    "data21_nor_zat_deg, data21_nor_mean, data21_nor_median, data21_nor_std = calc_stats(data21, data21['nor_zat_deg'])\n",
    "data21_cor_zat_deg, data21_cor_mean, data21_cor_median, data21_cor_std = calc_stats(data21, data21['cor_zat_deg'])\n",
    "data21_sou_zat_deg, data21_sou_mean, data21_sou_median, data21_sou_std = calc_stats(data21, data21['sou_zat_deg'])"
   ]
  },
  {
   "cell_type": "code",
   "execution_count": 18,
   "metadata": {
    "scrolled": false
   },
   "outputs": [
    {
     "name": "stdout",
     "output_type": "stream",
     "text": [
      "[0, 0.0, 0.0, 0.0, 0.0, 0.0, 0.0] [nan, 0.0, 0.0, 0.0, 0.0, 0.0, 0.0] [nan, 0.0, 0.0, 0.0, 0.0, 0.0, 0.0] [nan, 0.0, 0.0, 0.0, 0.0, 0.0, 0.0]\n"
     ]
    }
   ],
   "source": [
    "print(data20_nor_zat_deg, data20_nor_mean, data21_nor_median, data21_nor_std)"
   ]
  },
  {
   "cell_type": "code",
   "execution_count": 19,
   "metadata": {},
   "outputs": [],
   "source": [
    "scenario_dict = {}\n",
    "scenario_dict[1] = calc_stats(data20, data20['nor_zat_deg'])\n",
    "scenario_dict[2] = calc_stats(data20, data20['cor_zat_deg'])\n",
    "scenario_dict[3] = calc_stats(data20, data20['sou_zat_deg'])\n",
    "\n",
    "scenario_dict[4] = calc_stats(data21, data21['nor_zat_deg'])\n",
    "scenario_dict[5] = calc_stats(data21, data21['cor_zat_deg'])\n",
    "scenario_dict[6] = calc_stats(data21, data21['sou_zat_deg'])\n",
    "\n",
    "scenario_dict = {'data20': {\"nor\": calc_stats(data20, data20['nor_zat_deg']),\n",
    "                            \"cor\": calc_stats(data20, data20['cor_zat_deg']), \n",
    "                            \"sou\": calc_stats(data20, data20['sou_zat_deg'])}, \n",
    "                 \n",
    "                 'data21': {\"nor\": calc_stats(data21, data21['nor_zat_deg']),\n",
    "                            \"cor\": calc_stats(data21, data21['cor_zat_deg']), \n",
    "                            \"sou\": calc_stats(data21, data21['sou_zat_deg'])}}"
   ]
  },
  {
   "cell_type": "code",
   "execution_count": 20,
   "metadata": {},
   "outputs": [
    {
     "name": "stdout",
     "output_type": "stream",
     "text": [
      "([0, 0.3104431216931216, 0.11601851851851297, 0.12453703703703578, 0.5385185185185319, 0.1458664021164049, 0.5583333333333416], [nan, 0.02534229564841809, 0.009470899470899017, 0.010166288737717206, 0.04396069538926791, 0.011907461397257542, 0.04557823129251768], [nan, 0.0, 0.0, 0.0, 0.0, 0.0, 0.0], [nan, 0.05009379308132298, 0.028305885195785908, 0.03219658597965566, 0.08245442562406036, 0.02769832228546456, 0.08225781984955588])\n",
      "[0.3104431216931216, 0.11601851851851297, 0.12453703703703578, 0.5385185185185319]\n"
     ]
    }
   ],
   "source": [
    "print(scenario_dict['data21']['sou'])\n",
    "print(scenario_dict['data21']['sou'][0][1:5])"
   ]
  },
  {
   "cell_type": "code",
   "execution_count": 21,
   "metadata": {},
   "outputs": [
    {
     "name": "stdout",
     "output_type": "stream",
     "text": [
      "0.0 0.0\n",
      "0.8865343915343562 0.18095899470898225\n",
      "0.8865343915343562 1.7937169312169488\n"
     ]
    }
   ],
   "source": [
    "print(sum(data20_nor_zat_deg), sum(data21_nor_zat_deg))\n",
    "print(sum(data20_cor_zat_deg), sum(data21_cor_zat_deg))\n",
    "print(sum(data20_sou_zat_deg), sum(data21_sou_zat_deg))"
   ]
  },
  {
   "cell_type": "code",
   "execution_count": 22,
   "metadata": {},
   "outputs": [
    {
     "name": "stderr",
     "output_type": "stream",
     "text": [
      "C:\\Users\\agarw\\Desktop\\LBNL\\BTUS - HIL\\Test results\\HIL-Sim-main_process\\HIL-Sim-main\\flexlab\\db_layer\\db_plotting.py:146: UserWarning: This figure was using constrained_layout==True, but that is incompatible with subplots_adjust and or tight_layout: setting constrained_layout==False. \n",
      "  fig.subplots_adjust(hspace = .2, wspace=.15)\n"
     ]
    },
    {
     "name": "stdout",
     "output_type": "stream",
     "text": [
      "['08/09', '08/10', '08/11', '08/12', '08/13', '08/14', '08/15']\n",
      "[0 1 2 3 4 5]\n"
     ]
    },
    {
     "data": {
      "image/png": "[encoded data removed]",
      "text/plain": [
       "<Figure size 1296x648 with 3 Axes>"
      ]
     },
     "metadata": {},
     "output_type": "display_data"
    }
   ],
   "source": [
    "# key for metrics to be plotted in the scenario dictionary; {1:'overshoot', 2:'mean', 3:'median', 4:'std_dev'}\n",
    "title_dict = {1: 'Daily overshoot (deg C hour)', 2:'Daily overshoot (mean)', 3:'Daily overshoot (median)' , \n",
    "              4:'Daily overshoot (standard deviation)'}\n",
    "ylabel = {1: 'deg C - hour', 2: 'deg C', 3: 'deg C', 4: 'deg C'}\n",
    "db_plotting.thermal_comfort_plot(data20, scenario_dict['data20']['nor'], scenario_dict['data21']['nor'], \n",
    "                                 scenario_dict['data20']['cor'], scenario_dict['data21']['cor'], \n",
    "                                 scenario_dict['data20']['sou'], scenario_dict['data21']['sou'], \n",
    "                                 scenario_dict, 0, ylabel[1], title_dict[1])"
   ]
  },
  {
   "cell_type": "code",
   "execution_count": null,
   "metadata": {},
   "outputs": [],
   "source": []
  }
 ],
 "metadata": {
  "kernelspec": {
   "display_name": "Python 3",
   "language": "python",
   "name": "python3"
  },
  "language_info": {
   "codemirror_mode": {
    "name": "ipython",
    "version": 3
   },
   "file_extension": ".py",
   "mimetype": "text/x-python",
   "name": "python",
   "nbconvert_exporter": "python",
   "pygments_lexer": "ipython3",
   "version": "3.8.8"
  }
 },
 "nbformat": 4,
 "nbformat_minor": 2
}
