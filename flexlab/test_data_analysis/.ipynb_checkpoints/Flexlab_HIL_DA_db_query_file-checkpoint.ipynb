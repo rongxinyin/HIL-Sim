{
 "cells": [
  {
   "cell_type": "code",
   "execution_count": 7,
   "metadata": {},
   "outputs": [],
   "source": [
    "# GENERAL PACKAGE IMPORT\n",
    "# ----------------------\n",
    "\n",
    "import sys\n",
    "sys.path.append('C:/Users/agarw/Documents/git/HIL-Sim/flexlab/db_layer') # change you path here    \n",
    "#import db_interface.py \n",
    "from db_interface import DB_Interface\n",
    "import requests\n",
    "import numpy as np\n",
    "import json\n",
    "import pandas as pd\n",
    "from pandas import DataFrame\n",
    "from io import StringIO\n",
    "\n",
    "import datetime as dt\n",
    "import datetime\n",
    "import matplotlib\n",
    "import matplotlib.pyplot as plt\n",
    "import seaborn as sns\n",
    "\n",
    "from matplotlib.dates import date2num\n",
    "import seaborn\n",
    "import timeit\n",
    "import json\n",
    "import pickle\n",
    "\n",
    "import matplotlib.pyplot as plt\n",
    "import datetime"
   ]
  },
  {
   "cell_type": "code",
   "execution_count": 9,
   "metadata": {
    "scrolled": false
   },
   "outputs": [],
   "source": [
    "db = DB_Interface(\"C:/Users/agarw/Documents/git/HIL-Sim/flexlab/db_layer/db_interface_config_template.yaml\") #change your path here"
   ]
  },
  {
   "cell_type": "code",
   "execution_count": 10,
   "metadata": {},
   "outputs": [],
   "source": [
    "#path1 ='FF/May7_FF.csv'\n",
    "def process_input(input):\n",
    "    data = pd.read_csv(input + '.csv',encoding='latin1', index_col = 0, parse_dates = True)\n",
    "    \n",
    "    print(type(data.index))\n",
    "    #=data.datetime\n",
    "\n",
    "    data= data.resample('15min').last()\n",
    "    data['datetime'] = data.index\n",
    "    data.to_csv(input+ '_revised.csv')  \n",
    "    return(data)"
   ]
  },
  {
   "cell_type": "markdown",
   "metadata": {},
   "source": [
    "### Baseline days"
   ]
  },
  {
   "cell_type": "code",
   "execution_count": 11,
   "metadata": {
    "scrolled": false
   },
   "outputs": [],
   "source": [
    "st = datetime.datetime(2021,8,9,23,45,0)\n",
    "en = datetime.datetime(2021,8,15,23,45,0)\n",
    "data20 = db.get_data(st, en, cell='1a', include_setpoints = False)\n",
    "data21 = db.get_data(st, en, cell='1b', include_setpoints = False)"
   ]
  },
  {
   "cell_type": "code",
   "execution_count": 12,
   "metadata": {},
   "outputs": [
    {
     "name": "stdout",
     "output_type": "stream",
     "text": [
      "Index(['desk1_plug_power', 'desk2_plug_power', 'desk3_plug_power',\n",
      "       'desk4_plug_power', 'desk5_plug_power', 'desk6_plug_power',\n",
      "       'desk3_light_power', 'desk4_light_power', 'desk2_light_power',\n",
      "       'desk1_6_light_power', 'desk5_light_power', '1A-VAV1-Zn_Temp',\n",
      "       '1A-VAV2-Zn_Temp', '1A-VAV3-Zn_Temp', '1A-VAV1-OccupiedCoolingSetpt',\n",
      "       '1A-VAV1-UnoccupiedCoolingSetpt', '1A-VAV1-OccupiedHeatingSetpt',\n",
      "       '1A-VAV1-UnoccupiedHeatingSetpt', '1A-VAV2-OccupiedCoolingSetpt',\n",
      "       '1A-VAV2-UnoccupiedHeatingSetpt', '1A-VAV2-UnoccupiedCoolingSetpt',\n",
      "       '1A-VAV2-OccupiedHeatingSetpt', '1A-VAV3-OccupiedCoolingSetpt',\n",
      "       '1A-VAV3-UnoccupiedHeatingSetpt', '1A-VAV3-UnoccupiedCoolingSetpt',\n",
      "       '1A-VAV3-OccupiedHeatingSetpt', '1A-El-AHU', '1A-El-CHWP', '1A-El-HWP',\n",
      "       '1A-El-Exhaust Fan', '1A-Th-Chilled Water', '1B-OAT-1',\n",
      "       '1A-MidZone-TCS6-DBT', '1A-NorthZone-DBT', '1A-WindowZone-TCS7-DBT',\n",
      "       '1A-VAV1-DischargeAirTemp', '1A-VAV2-DischargeAirTemp',\n",
      "       '1A-VAV3-DischargeAirTemp', '1A-VAV1-DischargeAirflow',\n",
      "       '1A-VAV2-DischargeAirflow', '1A-VAV3-DischargeAirflow', '1A-ASAM-1',\n",
      "       '1A-ARAM-1', '1A-SAT-1', '1A-OADA-1-POSN', '1A-RADA-1-POSN'],\n",
      "      dtype='object')\n",
      "time\n",
      "2021-08-09 23:45:00            NaN\n",
      "2021-08-10 00:00:00    -908.120718\n",
      "2021-08-10 00:15:00    -947.760699\n",
      "2021-08-10 00:30:00   -1079.094985\n",
      "2021-08-10 00:45:00   -1148.793143\n",
      "Freq: 15T, Name: 1A-Th-Chilled Water, dtype: float64\n"
     ]
    }
   ],
   "source": [
    "print(data20.columns)\n",
    "print(data20['1A-Th-Chilled Water'].head())"
   ]
  },
  {
   "cell_type": "code",
   "execution_count": 13,
   "metadata": {},
   "outputs": [
    {
     "name": "stdout",
     "output_type": "stream",
     "text": [
      "<class 'pandas.core.indexes.datetimes.DatetimeIndex'>\n",
      "<class 'pandas.core.indexes.datetimes.DatetimeIndex'>\n"
     ]
    }
   ],
   "source": [
    "data20.to_csv('data20.csv', index = True)\n",
    "data21.to_csv('data21.csv',index = True)\n",
    "path1 = 'data20'\n",
    "path2 = 'data21'\n",
    "data20 = process_input(path1)\n",
    "data21 = process_input(path2)"
   ]
  },
  {
   "cell_type": "code",
   "execution_count": 14,
   "metadata": {},
   "outputs": [
    {
     "name": "stdout",
     "output_type": "stream",
     "text": [
      "                     desk1_plug_power  desk2_plug_power  desk3_plug_power  \\\n",
      "time                                                                        \n",
      "2021-08-09 23:45:00               NaN               NaN               NaN   \n",
      "2021-08-10 00:00:00               NaN               NaN               NaN   \n",
      "2021-08-10 00:15:00               NaN               NaN               NaN   \n",
      "2021-08-10 00:30:00               NaN               NaN               NaN   \n",
      "2021-08-10 00:45:00               NaN               NaN               NaN   \n",
      "\n",
      "                     desk4_plug_power  desk5_plug_power  desk6_plug_power  \\\n",
      "time                                                                        \n",
      "2021-08-09 23:45:00               NaN               NaN               NaN   \n",
      "2021-08-10 00:00:00               NaN               NaN               NaN   \n",
      "2021-08-10 00:15:00               NaN               NaN               NaN   \n",
      "2021-08-10 00:30:00               NaN               NaN               NaN   \n",
      "2021-08-10 00:45:00               NaN               NaN               NaN   \n",
      "\n",
      "                     desk3_light_power  desk4_light_power  desk2_light_power  \\\n",
      "time                                                                           \n",
      "2021-08-09 23:45:00                NaN                NaN                NaN   \n",
      "2021-08-10 00:00:00           0.601047           0.595913           0.599127   \n",
      "2021-08-10 00:15:00           0.602060           0.595567           0.600907   \n",
      "2021-08-10 00:30:00           0.598067           0.593440           0.597300   \n",
      "2021-08-10 00:45:00           0.602207           0.593160           0.601700   \n",
      "\n",
      "                     desk1_6_light_power  ...  1A-VAV3-DischargeAirTemp  \\\n",
      "time                                      ...                             \n",
      "2021-08-09 23:45:00                  NaN  ...                     72.88   \n",
      "2021-08-10 00:00:00             1.185247  ...                     73.88   \n",
      "2021-08-10 00:15:00             1.190327  ...                     56.40   \n",
      "2021-08-10 00:30:00             1.180867  ...                     56.19   \n",
      "2021-08-10 00:45:00             1.189947  ...                     56.10   \n",
      "\n",
      "                     1A-VAV1-DischargeAirflow  1A-VAV2-DischargeAirflow  \\\n",
      "time                                                                      \n",
      "2021-08-09 23:45:00                     44.53                     44.61   \n",
      "2021-08-10 00:00:00                     44.96                     45.35   \n",
      "2021-08-10 00:15:00                     68.01                     69.11   \n",
      "2021-08-10 00:30:00                     68.26                     69.49   \n",
      "2021-08-10 00:45:00                     68.01                     68.77   \n",
      "\n",
      "                     1A-VAV3-DischargeAirflow   1A-ASAM-1  1A-ARAM-1  \\\n",
      "time                                                                   \n",
      "2021-08-09 23:45:00                     79.75         NaN        NaN   \n",
      "2021-08-10 00:00:00                     78.63  331.534667  -0.609500   \n",
      "2021-08-10 00:15:00                    106.27  412.552000  -0.508753   \n",
      "2021-08-10 00:30:00                    104.71  420.956667  -0.282947   \n",
      "2021-08-10 00:45:00                    104.73  419.520667  -0.268820   \n",
      "\n",
      "                      1A-SAT-1  1A-OADA-1-POSN  1A-RADA-1-POSN  \\\n",
      "time                                                             \n",
      "2021-08-09 23:45:00        NaN             NaN             NaN   \n",
      "2021-08-10 00:00:00  11.550887       94.891973       -1.173853   \n",
      "2021-08-10 00:15:00  11.480533       94.893000       -1.172680   \n",
      "2021-08-10 00:30:00  11.624567       94.890567       -1.169193   \n",
      "2021-08-10 00:45:00  11.648627       94.890447       -1.169553   \n",
      "\n",
      "                               datetime  \n",
      "time                                     \n",
      "2021-08-09 23:45:00 2021-08-09 23:45:00  \n",
      "2021-08-10 00:00:00 2021-08-10 00:00:00  \n",
      "2021-08-10 00:15:00 2021-08-10 00:15:00  \n",
      "2021-08-10 00:30:00 2021-08-10 00:30:00  \n",
      "2021-08-10 00:45:00 2021-08-10 00:45:00  \n",
      "\n",
      "[5 rows x 47 columns]\n"
     ]
    }
   ],
   "source": [
    "print(data20.head())"
   ]
  },
  {
   "cell_type": "markdown",
   "metadata": {},
   "source": [
    "### Shed test days"
   ]
  },
  {
   "cell_type": "code",
   "execution_count": 15,
   "metadata": {},
   "outputs": [],
   "source": [
    "st_shed = datetime.datetime(2021,8,15,23,45,0)\n",
    "en_shed = datetime.datetime(2021,9,3,23,45,0)\n",
    "data22 = db.get_data(st_shed, en_shed, cell='1a', include_setpoints = False)\n",
    "data23 = db.get_data(st_shed, en_shed, cell='1b', include_setpoints = False)"
   ]
  },
  {
   "cell_type": "code",
   "execution_count": 16,
   "metadata": {},
   "outputs": [
    {
     "name": "stdout",
     "output_type": "stream",
     "text": [
      "<class 'pandas.core.indexes.datetimes.DatetimeIndex'>\n",
      "<class 'pandas.core.indexes.datetimes.DatetimeIndex'>\n"
     ]
    }
   ],
   "source": [
    "data22.to_csv('data22.csv', index = True)\n",
    "data23.to_csv('data23.csv',index = True)\n",
    "path3 = 'data22'\n",
    "path4 = 'data23'\n",
    "data22 = process_input(path3)\n",
    "data23 = process_input(path4)"
   ]
  },
  {
   "cell_type": "markdown",
   "metadata": {},
   "source": [
    "### Shift test days"
   ]
  },
  {
   "cell_type": "code",
   "execution_count": 17,
   "metadata": {},
   "outputs": [],
   "source": [
    "st_shift = datetime.datetime(2021,9,14,23,45,0)\n",
    "en_shift = datetime.datetime(2021,9,19,23,45,0)\n",
    "data24 = db.get_data(st_shift, en_shift, cell='1a', include_setpoints = False)\n",
    "data25 = db.get_data(st_shift, en_shift, cell='1b', include_setpoints = False)"
   ]
  },
  {
   "cell_type": "code",
   "execution_count": 18,
   "metadata": {},
   "outputs": [
    {
     "name": "stdout",
     "output_type": "stream",
     "text": [
      "<class 'pandas.core.indexes.datetimes.DatetimeIndex'>\n",
      "<class 'pandas.core.indexes.datetimes.DatetimeIndex'>\n"
     ]
    }
   ],
   "source": [
    "data24.to_csv('data24.csv', index = True)\n",
    "data25.to_csv('data25.csv',index = True)\n",
    "path5 = 'data24'\n",
    "path6 = 'data25'\n",
    "data24 = process_input(path5)\n",
    "data25 = process_input(path6)"
   ]
  },
  {
   "cell_type": "code",
   "execution_count": null,
   "metadata": {},
   "outputs": [],
   "source": []
  }
 ],
 "metadata": {
  "kernelspec": {
   "display_name": "Python 3",
   "language": "python",
   "name": "python3"
  },
  "language_info": {
   "codemirror_mode": {
    "name": "ipython",
    "version": 3
   },
   "file_extension": ".py",
   "mimetype": "text/x-python",
   "name": "python",
   "nbconvert_exporter": "python",
   "pygments_lexer": "ipython3",
   "version": "3.7.6"
  }
 },
 "nbformat": 4,
 "nbformat_minor": 2
}
