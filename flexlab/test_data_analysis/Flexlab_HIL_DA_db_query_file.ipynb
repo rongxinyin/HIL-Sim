{
 "cells": [
  {
   "cell_type": "code",
   "execution_count": 1,
   "metadata": {},
   "outputs": [],
   "source": [
    "# GENERAL PACKAGE IMPORT\n",
    "# ----------------------\n",
    "from db_interface import DB_Interface\n",
    "import requests\n",
    "import numpy as np\n",
    "import json\n",
    "import pandas as pd\n",
    "from pandas import DataFrame\n",
    "from io import StringIO\n",
    "\n",
    "import datetime as dt\n",
    "import datetime\n",
    "import matplotlib\n",
    "import matplotlib.pyplot as plt\n",
    "import seaborn as sns\n",
    "\n",
    "from matplotlib.dates import date2num\n",
    "import seaborn\n",
    "import timeit\n",
    "import json\n",
    "import pickle\n",
    "\n",
    "import matplotlib.pyplot as plt\n",
    "import datetime"
   ]
  },
  {
   "cell_type": "code",
   "execution_count": 2,
   "metadata": {
    "scrolled": false
   },
   "outputs": [],
   "source": [
    "db = DB_Interface(\"db_interface_config_template_metrics.yaml\")"
   ]
  },
  {
   "cell_type": "code",
   "execution_count": 3,
   "metadata": {},
   "outputs": [],
   "source": [
    "#path1 ='FF/May7_FF.csv'\n",
    "def process_input(input):\n",
    "    data = pd.read_csv(input + '.csv',encoding='latin1', index_col = 0, parse_dates = True)\n",
    "    \n",
    "    print(type(data.index))\n",
    "    #=data.datetime\n",
    "\n",
    "    data= data.resample('15min').last()\n",
    "    data['datetime'] = data.index\n",
    "    data.to_csv(input+ '_revised.csv')  \n",
    "    return(data)"
   ]
  },
  {
   "cell_type": "markdown",
   "metadata": {},
   "source": [
    "### Baseline days"
   ]
  },
  {
   "cell_type": "code",
   "execution_count": 4,
   "metadata": {
    "scrolled": false
   },
   "outputs": [],
   "source": [
    "st = datetime.datetime(2021,8,9,23,45,0)\n",
    "en = datetime.datetime(2021,8,15,23,45,0)\n",
    "data20 = db.get_data(st, en, cell='1a', include_setpoints = False)\n",
    "data21 = db.get_data(st, en, cell='1b', include_setpoints = False)"
   ]
  },
  {
   "cell_type": "code",
   "execution_count": 5,
   "metadata": {},
   "outputs": [
    {
     "name": "stdout",
     "output_type": "stream",
     "text": [
      "Index(['desk1_6_light_power', 'desk1_plug_power', 'desk2_light_power',\n",
      "       'desk2_plug_power', 'desk3_light_power', 'desk3_plug_power',\n",
      "       'desk4_light_power', 'desk4_plug_power', 'desk5_light_power',\n",
      "       'desk5_plug_power', 'desk6_plug_power', '1A-VAV1-Zn_Temp',\n",
      "       '1A-VAV2-Zn_Temp', '1A-VAV3-Zn_Temp', '1A-VAV1-OccupiedCoolingSetpt',\n",
      "       '1A-VAV1-OccupiedHeatingSetpt', '1A-VAV1-UnoccupiedCoolingSetpt',\n",
      "       '1A-VAV1-UnoccupiedHeatingSetpt', '1A-VAV2-OccupiedCoolingSetpt',\n",
      "       '1A-VAV2-OccupiedHeatingSetpt', '1A-VAV2-UnoccupiedCoolingSetpt',\n",
      "       '1A-VAV2-UnoccupiedHeatingSetpt', '1A-VAV3-OccupiedCoolingSetpt',\n",
      "       '1A-VAV3-OccupiedHeatingSetpt', '1A-VAV3-UnoccupiedCoolingSetpt',\n",
      "       '1A-VAV3-UnoccupiedHeatingSetpt', '1A-El-AHU', '1A-El-CHWP',\n",
      "       '1A-El-Exhaust Fan', '1A-El-HWP', '1A-Th-Chilled Water', '1B-OAT-1'],\n",
      "      dtype='object', name='name')\n",
      "time\n",
      "2021-08-09 23:45:00            NaN\n",
      "2021-08-10 00:00:00    -908.120718\n",
      "2021-08-10 00:15:00    -947.760699\n",
      "2021-08-10 00:30:00   -1079.094985\n",
      "2021-08-10 00:45:00   -1148.793143\n",
      "Freq: 15T, Name: 1A-Th-Chilled Water, dtype: float64\n"
     ]
    }
   ],
   "source": [
    "print(data20.columns)\n",
    "print(data20['1A-Th-Chilled Water'].head())"
   ]
  },
  {
   "cell_type": "code",
   "execution_count": 6,
   "metadata": {},
   "outputs": [
    {
     "name": "stdout",
     "output_type": "stream",
     "text": [
      "<class 'pandas.core.indexes.datetimes.DatetimeIndex'>\n",
      "<class 'pandas.core.indexes.datetimes.DatetimeIndex'>\n"
     ]
    }
   ],
   "source": [
    "data20.to_csv('data20.csv', index = True)\n",
    "data21.to_csv('data21.csv',index = True)\n",
    "path1 = 'data20'\n",
    "path2 = 'data21'\n",
    "data20 = process_input(path1)\n",
    "data21 = process_input(path2)"
   ]
  },
  {
   "cell_type": "code",
   "execution_count": 7,
   "metadata": {},
   "outputs": [
    {
     "name": "stdout",
     "output_type": "stream",
     "text": [
      "                     desk1_6_light_power  desk1_plug_power  desk2_light_power  \\\n",
      "time                                                                            \n",
      "2021-08-09 23:45:00                  NaN               NaN                NaN   \n",
      "2021-08-10 00:00:00             1.185247               NaN           0.599127   \n",
      "2021-08-10 00:15:00             1.190327               NaN           0.600907   \n",
      "2021-08-10 00:30:00             1.180867               NaN           0.597300   \n",
      "2021-08-10 00:45:00             1.189947               NaN           0.601700   \n",
      "\n",
      "                     desk2_plug_power  desk3_light_power  desk3_plug_power  \\\n",
      "time                                                                         \n",
      "2021-08-09 23:45:00               NaN                NaN               NaN   \n",
      "2021-08-10 00:00:00               NaN           0.601047               NaN   \n",
      "2021-08-10 00:15:00               NaN           0.602060               NaN   \n",
      "2021-08-10 00:30:00               NaN           0.598067               NaN   \n",
      "2021-08-10 00:45:00               NaN           0.602207               NaN   \n",
      "\n",
      "                     desk4_light_power  desk4_plug_power  desk5_light_power  \\\n",
      "time                                                                          \n",
      "2021-08-09 23:45:00                NaN               NaN                NaN   \n",
      "2021-08-10 00:00:00           0.595913               NaN           0.603620   \n",
      "2021-08-10 00:15:00           0.595567               NaN           0.600873   \n",
      "2021-08-10 00:30:00           0.593440               NaN           0.598480   \n",
      "2021-08-10 00:45:00           0.593160               NaN           0.598500   \n",
      "\n",
      "                     desk5_plug_power  ...  1A-VAV3-OccupiedHeatingSetpt  \\\n",
      "time                                   ...                                 \n",
      "2021-08-09 23:45:00               NaN  ...                     70.000000   \n",
      "2021-08-10 00:00:00               NaN  ...                     70.000000   \n",
      "2021-08-10 00:15:00               NaN  ...                     60.666667   \n",
      "2021-08-10 00:30:00               NaN  ...                     60.000000   \n",
      "2021-08-10 00:45:00               NaN  ...                     60.000000   \n",
      "\n",
      "                     1A-VAV3-UnoccupiedCoolingSetpt  \\\n",
      "time                                                  \n",
      "2021-08-09 23:45:00                            80.0   \n",
      "2021-08-10 00:00:00                            80.0   \n",
      "2021-08-10 00:15:00                            80.0   \n",
      "2021-08-10 00:30:00                            80.0   \n",
      "2021-08-10 00:45:00                            80.0   \n",
      "\n",
      "                     1A-VAV3-UnoccupiedHeatingSetpt   1A-El-AHU  1A-El-CHWP  \\\n",
      "time                                                                          \n",
      "2021-08-09 23:45:00                            65.0         NaN         NaN   \n",
      "2021-08-10 00:00:00                            65.0  198.842650   54.978018   \n",
      "2021-08-10 00:15:00                            65.0  212.904353   54.737259   \n",
      "2021-08-10 00:30:00                            65.0  212.933636   54.736622   \n",
      "2021-08-10 00:45:00                            65.0  213.645078   54.845917   \n",
      "\n",
      "                     1A-El-Exhaust Fan  1A-El-HWP  1A-Th-Chilled Water  \\\n",
      "time                                                                     \n",
      "2021-08-09 23:45:00                NaN        NaN                  NaN   \n",
      "2021-08-10 00:00:00           0.012958  56.852844          -908.120718   \n",
      "2021-08-10 00:15:00           0.002444  56.414495          -947.760699   \n",
      "2021-08-10 00:30:00          -0.000050  56.029240         -1079.094985   \n",
      "2021-08-10 00:45:00          -0.000980  56.368342         -1148.793143   \n",
      "\n",
      "                      1B-OAT-1            datetime  \n",
      "time                                                \n",
      "2021-08-09 23:45:00        NaN 2021-08-09 23:45:00  \n",
      "2021-08-10 00:00:00  14.115887 2021-08-10 00:00:00  \n",
      "2021-08-10 00:15:00  13.884800 2021-08-10 00:15:00  \n",
      "2021-08-10 00:30:00  13.870127 2021-08-10 00:30:00  \n",
      "2021-08-10 00:45:00  13.578167 2021-08-10 00:45:00  \n",
      "\n",
      "[5 rows x 33 columns]\n"
     ]
    }
   ],
   "source": [
    "print(data20.head())"
   ]
  },
  {
   "cell_type": "markdown",
   "metadata": {},
   "source": [
    "### Shed test days"
   ]
  },
  {
   "cell_type": "code",
   "execution_count": 6,
   "metadata": {},
   "outputs": [],
   "source": [
    "st_shed = datetime.datetime(2021,8,15,23,45,0)\n",
    "en_shed = datetime.datetime(2021,9,3,23,45,0)\n",
    "data22 = db.get_data(st_shed, en_shed, cell='1a', include_setpoints = False)\n",
    "data23 = db.get_data(st_shed, en_shed, cell='1b', include_setpoints = False)"
   ]
  },
  {
   "cell_type": "code",
   "execution_count": 7,
   "metadata": {},
   "outputs": [
    {
     "name": "stdout",
     "output_type": "stream",
     "text": [
      "<class 'pandas.core.indexes.datetimes.DatetimeIndex'>\n",
      "<class 'pandas.core.indexes.datetimes.DatetimeIndex'>\n"
     ]
    }
   ],
   "source": [
    "data22.to_csv('data22.csv', index = True)\n",
    "data23.to_csv('data23.csv',index = True)\n",
    "path3 = 'data22'\n",
    "path4 = 'data23'\n",
    "data22 = process_input(path3)\n",
    "data23 = process_input(path4)"
   ]
  },
  {
   "cell_type": "markdown",
   "metadata": {},
   "source": [
    "### Shift test days"
   ]
  },
  {
   "cell_type": "code",
   "execution_count": 4,
   "metadata": {},
   "outputs": [],
   "source": [
    "st_shift = datetime.datetime(2021,9,14,23,45,0)\n",
    "en_shift = datetime.datetime(2021,9,19,23,45,0)\n",
    "data24 = db.get_data(st_shift, en_shift, cell='1a', include_setpoints = False)\n",
    "data25 = db.get_data(st_shift, en_shift, cell='1b', include_setpoints = False)"
   ]
  },
  {
   "cell_type": "code",
   "execution_count": 5,
   "metadata": {},
   "outputs": [
    {
     "name": "stdout",
     "output_type": "stream",
     "text": [
      "<class 'pandas.core.indexes.datetimes.DatetimeIndex'>\n",
      "<class 'pandas.core.indexes.datetimes.DatetimeIndex'>\n"
     ]
    }
   ],
   "source": [
    "data24.to_csv('data24.csv', index = True)\n",
    "data25.to_csv('data25.csv',index = True)\n",
    "path5 = 'data24'\n",
    "path6 = 'data25'\n",
    "data24 = process_input(path5)\n",
    "data25 = process_input(path6)"
   ]
  },
  {
   "cell_type": "code",
   "execution_count": null,
   "metadata": {},
   "outputs": [],
   "source": []
  }
 ],
 "metadata": {
  "kernelspec": {
   "display_name": "Python 3",
   "language": "python",
   "name": "python3"
  },
  "language_info": {
   "codemirror_mode": {
    "name": "ipython",
    "version": 3
   },
   "file_extension": ".py",
   "mimetype": "text/x-python",
   "name": "python",
   "nbconvert_exporter": "python",
   "pygments_lexer": "ipython3",
   "version": "3.7.6"
  }
 },
 "nbformat": 4,
 "nbformat_minor": 2
}
