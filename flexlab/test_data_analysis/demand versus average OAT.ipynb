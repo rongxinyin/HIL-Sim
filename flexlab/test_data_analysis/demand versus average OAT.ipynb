{
 "cells": [
  {
   "cell_type": "code",
   "execution_count": 31,
   "id": "36cea795",
   "metadata": {},
   "outputs": [],
   "source": [
    "# GENERAL PACKAGE IMPORT\n",
    "# ----------------------\n",
    "import sys\n",
    "sys.path.append('/Users/huangwp/Documents/git/HIL-Sim/flexlab/db_layer') \n",
    "from db_interface import DB_Interface\n",
    "import requests\n",
    "import numpy as np\n",
    "import json\n",
    "import pandas as pd\n",
    "from pandas import DataFrame\n",
    "from io import StringIO\n",
    "\n",
    "import datetime as dt\n",
    "import datetime\n",
    "import matplotlib\n",
    "import matplotlib.pyplot as plt\n",
    "import seaborn as sns\n",
    "from scipy import stats\n",
    "\n",
    "from matplotlib.dates import date2num\n",
    "import seaborn\n",
    "import timeit\n",
    "import json\n",
    "import pickle\n",
    "\n",
    "import matplotlib.pyplot as plt\n",
    "#import oa_temp as oa\n",
    "#import sa_temp as sa\n",
    "import datetime\n",
    "import db_plotting"
   ]
  },
  {
   "cell_type": "code",
   "execution_count": 32,
   "id": "ce21df25",
   "metadata": {},
   "outputs": [],
   "source": [
    "data20 = pd.read_csv('data20_revised.csv', index_col = 0, parse_dates = True)\n",
    "data21 = pd.read_csv('data21_revised.csv', index_col = 0, parse_dates = True)"
   ]
  },
  {
   "cell_type": "code",
   "execution_count": 33,
   "id": "dc41b661",
   "metadata": {},
   "outputs": [],
   "source": [
    "data20['datetime'] = pd.to_datetime(data20['datetime'])\n",
    "data21['datetime'] = pd.to_datetime(data21['datetime'])"
   ]
  },
  {
   "cell_type": "code",
   "execution_count": 34,
   "id": "cbc8b86a",
   "metadata": {
    "scrolled": false
   },
   "outputs": [
    {
     "name": "stdout",
     "output_type": "stream",
     "text": [
      "<class 'pandas._libs.tslibs.timestamps.Timestamp'>\n",
      "<class 'datetime.time'>\n"
     ]
    }
   ],
   "source": [
    "print(type(data21['datetime'].iloc[0]))\n",
    "print(type(datetime.time(14,0,0)))\n",
    "\n",
    "data20['date'] = data20['datetime'].apply(lambda x: datetime.date(x.year, x.month, x.day))\n",
    "data20['time'] = data20['datetime'].apply(lambda x: datetime.time(x.hour, x.minute, x.second))\n",
    "\n",
    "data21['date'] = data21['datetime'].apply(lambda x: datetime.date(x.year, x.month, x.day))\n",
    "data21['time'] = data21['datetime'].apply(lambda x: datetime.time(x.hour, x.minute, x.second))"
   ]
  },
  {
   "cell_type": "code",
   "execution_count": 35,
   "id": "8802aa36",
   "metadata": {},
   "outputs": [
    {
     "name": "stdout",
     "output_type": "stream",
     "text": [
      "Index(['desk1_plug_power', 'desk2_plug_power', 'desk3_plug_power',\n",
      "       'desk4_plug_power', 'desk5_plug_power', 'desk6_plug_power',\n",
      "       'desk3_light_power', 'desk4_light_power', 'desk2_light_power',\n",
      "       'desk1_6_light_power', 'desk5_light_power', '1A-VAV1-Zn_Temp',\n",
      "       '1A-VAV2-Zn_Temp', '1A-VAV3-Zn_Temp', '1A-VAV1-OccupiedCoolingSetpt',\n",
      "       '1A-VAV1-UnoccupiedCoolingSetpt', '1A-VAV1-OccupiedHeatingSetpt',\n",
      "       '1A-VAV1-UnoccupiedHeatingSetpt', '1A-VAV2-OccupiedCoolingSetpt',\n",
      "       '1A-VAV2-UnoccupiedHeatingSetpt', '1A-VAV2-UnoccupiedCoolingSetpt',\n",
      "       '1A-VAV2-OccupiedHeatingSetpt', '1A-VAV3-OccupiedCoolingSetpt',\n",
      "       '1A-VAV3-UnoccupiedHeatingSetpt', '1A-VAV3-UnoccupiedCoolingSetpt',\n",
      "       '1A-VAV3-OccupiedHeatingSetpt', '1A-El-AHU', '1A-El-CHWP', '1A-El-HWP',\n",
      "       '1A-El-Exhaust Fan', '1A-Th-Chilled Water', '1B-OAT-1',\n",
      "       '1A-MidZone-TCS6-DBT', '1A-NorthZone-DBT', '1A-WindowZone-TCS7-DBT',\n",
      "       '1A-VAV1-DischargeAirTemp', '1A-VAV2-DischargeAirTemp',\n",
      "       '1A-VAV3-DischargeAirTemp', '1A-VAV1-DischargeAirflow',\n",
      "       '1A-VAV2-DischargeAirflow', '1A-VAV3-DischargeAirflow', '1A-ASAM-1',\n",
      "       '1A-ARAM-1', '1A-SAT-1', '1A-OADA-1-POSN', '1A-RADA-1-POSN', 'datetime',\n",
      "       'date', 'time'],\n",
      "      dtype='object')\n"
     ]
    }
   ],
   "source": [
    "print(data20.columns)"
   ]
  },
  {
   "cell_type": "markdown",
   "id": "6050b471",
   "metadata": {},
   "source": [
    "### Metrics"
   ]
  },
  {
   "cell_type": "code",
   "execution_count": 36,
   "id": "18fe5c4c",
   "metadata": {},
   "outputs": [],
   "source": [
    "data20 = data20.assign(COP='COP') \n",
    "#data20['COP'] = data20['oat_C'].apply(lambda x: (0.548 + 0.0951*x + (-7.63E-04)*x**2))\n",
    "data20['COP'] = 2.9\n",
    "data21 = data21.assign(COP='COP') \n",
    "#data21['COP'] = data21['oat_C'].apply(lambda x: (0.548 + 0.0951*x + (-7.63E-04)*x**2))\n",
    "data21['COP'] = 2.9"
   ]
  },
  {
   "cell_type": "code",
   "execution_count": 37,
   "id": "f5302492",
   "metadata": {},
   "outputs": [],
   "source": [
    "data20 = data20.assign(chiller = 'Chiller_load') \n",
    "data20['Chiller_load'] = (data20['1A-Th-Chilled Water']/data20['COP']) *-1\n",
    "data20['cooling_power [W]'] = data20['1A-El-AHU'] + data20['1A-El-Exhaust Fan'] + data20['1A-El-CHWP'] + data20['Chiller_load']\n",
    "\n",
    "data21 = data21.assign(chiller = 'Chiller_load') \n",
    "data21['Chiller_load'] = (data21['1B-Th-Chilled Water']/data21['COP']) *-1\n",
    "data21['cooling_power [W]'] = data21['1B-El-AHU'] + data21['1B-El-Exhaust Fan'] + data21['1B-El-CHWP'] + data21['Chiller_load']"
   ]
  },
  {
   "cell_type": "markdown",
   "id": "e094b5a8",
   "metadata": {},
   "source": [
    "# Avg Demand during shed vs Avg OAT "
   ]
  },
  {
   "cell_type": "code",
   "execution_count": 38,
   "id": "2716bf9f",
   "metadata": {},
   "outputs": [],
   "source": [
    "precool_st = datetime.time(10,0,0)\n",
    "precool_en = datetime.time(14,0,0)\n",
    "\n",
    "gta_st = datetime.time(14,0,0)\n",
    "gta_en = datetime.time(18,0,0)"
   ]
  },
  {
   "cell_type": "code",
   "execution_count": 39,
   "id": "e4a6f893",
   "metadata": {},
   "outputs": [],
   "source": [
    "gta_ts = (data20['time'] >= gta_st) & (data20['time'] <= gta_en)\n",
    "precool_ts = (data20['time'] >= precool_st) & (data20['time'] <= precool_en)\n"
   ]
  },
  {
   "cell_type": "code",
   "execution_count": 40,
   "id": "e4e23f3e",
   "metadata": {},
   "outputs": [
    {
     "name": "stdout",
     "output_type": "stream",
     "text": [
      "15\n",
      "20\n",
      "21\n",
      "26\n",
      "4\n",
      "5\n"
     ]
    }
   ],
   "source": [
    "en_1a = []\n",
    "en_1b = []\n",
    "shed_1a=[]\n",
    "shed_oat=[]\n",
    "shift_1a=[]\n",
    "shift_oat=[]\n",
    "\n",
    "# define dates for the calculation\n",
    "for day in range(15, 16):    \n",
    "    mask_1 = data21['date'] == datetime.date(2021, 8, day)\n",
    "    print(day)\n",
    "    day_en_1a = round((data20['cooling_power [W]'][mask_1].sum()/4000),2)\n",
    "    en_1a.append(day_en_1a)\n",
    "      \n",
    "    day_en_1b = round((data21['cooling_power [W]'][mask_1].sum()/4000),2)\n",
    "    en_1b.append(day_en_1b)\n",
    "    \n",
    "    day_shed_1a = (data20['cooling_power [W]'][mask_1][gta_ts].mean())   # only select 2-6pm\n",
    "    shed_1a.append(day_shed_1a)\n",
    "    \n",
    "    shed_oat_mean=(data20['1B-OAT-1'][mask_1][gta_ts].mean())  # outdoor air temperature average from 2-6pm\n",
    "    shed_oat.append(shed_oat_mean) # make daily average temp a list\n",
    "    \n",
    "    day_shift_1a = (data20['cooling_power [W]'][mask_1][precool_ts].mean())   # only select 10-2pm\n",
    "    shift_1a.append(day_shift_1a)\n",
    "    \n",
    "    shift_oat_mean=(data20['1B-OAT-1'][mask_1][precool_ts].mean())  # outdoor air temperature average from 10-2pm\n",
    "    shift_oat.append(shift_oat_mean) # make daily average temp a list\n",
    "    \n",
    "       \n",
    "    \n",
    "for day in range(20, 22):    \n",
    "    mask_1 = data21['date'] == datetime.date(2021, 8, day)\n",
    "    print(day)\n",
    "    day_en_1a = round((data20['cooling_power [W]'][mask_1].sum()/4000),2)\n",
    "    en_1a.append(day_en_1a)\n",
    "      \n",
    "    day_en_1b = round((data21['cooling_power [W]'][mask_1].sum()/4000),2)\n",
    "    en_1b.append(day_en_1b)\n",
    "    \n",
    "    day_shed_1a = (data20['cooling_power [W]'][mask_1][gta_ts].mean())   # only select 2-6pm\n",
    "    shed_1a.append(day_shed_1a)\n",
    "    \n",
    "    shed_oat_mean=(data20['1B-OAT-1'][mask_1][gta_ts].mean())  # outdoor air temperature average from 2-6pm\n",
    "    shed_oat.append(shed_oat_mean) # make daily average temp a list\n",
    "    \n",
    "    day_shift_1a = (data20['cooling_power [W]'][mask_1][precool_ts].mean())   # only select 10-2pm\n",
    "    shift_1a.append(day_shift_1a)\n",
    "    \n",
    "    shift_oat_mean=(data20['1B-OAT-1'][mask_1][precool_ts].mean())  # outdoor air temperature average from 10-2pm\n",
    "    shift_oat.append(shift_oat_mean) # make daily average temp a list\n",
    "    \n",
    "for day in range(26, 27):    \n",
    "    mask_1 = data21['date'] == datetime.date(2021, 8, day)\n",
    "    print(day)\n",
    "    day_en_1a = round((data20['cooling_power [W]'][mask_1].sum()/4000),2)\n",
    "    en_1a.append(day_en_1a)\n",
    "      \n",
    "    day_en_1b = round((data21['cooling_power [W]'][mask_1].sum()/4000),2)\n",
    "    en_1b.append(day_en_1b)\n",
    "    \n",
    "    day_shed_1a = (data20['cooling_power [W]'][mask_1][gta_ts].mean())   # only select 2-6pm\n",
    "    shed_1a.append(day_shed_1a)\n",
    "    \n",
    "    shed_oat_mean=(data20['1B-OAT-1'][mask_1][gta_ts].mean())  # outdoor air temperature average from 2-6pm\n",
    "    shed_oat.append(shed_oat_mean) # make daily average temp a list\n",
    "    \n",
    "    day_shift_1a = (data20['cooling_power [W]'][mask_1][precool_ts].mean())   # only select 10-2pm\n",
    "    shift_1a.append(day_shift_1a)\n",
    "    \n",
    "    shift_oat_mean=(data20['1B-OAT-1'][mask_1][precool_ts].mean())  # outdoor air temperature average from 10-2pm\n",
    "    shift_oat.append(shift_oat_mean) # make daily average temp a list\n",
    "    \n",
    "for day in range(4, 6):    \n",
    "    mask_1 = data21['date'] == datetime.date(2021, 9, day)\n",
    "    print(day)\n",
    "    day_en_1a = round((data20['cooling_power [W]'][mask_1].sum()/4000),2)\n",
    "    en_1a.append(day_en_1a)\n",
    "      \n",
    "    day_en_1b = round((data21['cooling_power [W]'][mask_1].sum()/4000),2)\n",
    "    en_1b.append(day_en_1b)\n",
    "    \n",
    "    day_shed_1a = (data20['cooling_power [W]'][mask_1][gta_ts].mean())   # only select 2-6pm\n",
    "    shed_1a.append(day_shed_1a)\n",
    "    \n",
    "    shed_oat_mean=(data20['1B-OAT-1'][mask_1][gta_ts].mean())  # outdoor air temperature average from 2-6pm\n",
    "    shed_oat.append(shed_oat_mean) # make daily average temp a list\n",
    "    \n",
    "    day_shift_1a = (data20['cooling_power [W]'][mask_1][precool_ts].mean())   # only select 10-2pm\n",
    "    shift_1a.append(day_shift_1a)\n",
    "    \n",
    "    shift_oat_mean=(data20['1B-OAT-1'][mask_1][precool_ts].mean())  # outdoor air temperature average from 10-2pm\n",
    "    shift_oat.append(shift_oat_mean) # make daily average temp a list\n",
    "    \n",
    "    \n"
   ]
  },
  {
   "cell_type": "code",
   "execution_count": 41,
   "id": "263ef7c3",
   "metadata": {},
   "outputs": [
    {
     "name": "stdout",
     "output_type": "stream",
     "text": [
      "[1089.68109603  823.71480814  702.6116114   926.89994826 1284.04873765\n",
      " 1309.89087731]\n"
     ]
    }
   ],
   "source": [
    "shed_1a = np.array(shed_1a)\n",
    "print(shed_1a)"
   ]
  },
  {
   "cell_type": "code",
   "execution_count": 42,
   "id": "c2699f94",
   "metadata": {},
   "outputs": [
    {
     "name": "stdout",
     "output_type": "stream",
     "text": [
      "[21.55108235 16.21273529 15.57357059 23.68724118 22.65625294 24.9185    ]\n"
     ]
    }
   ],
   "source": [
    "shed_oat = np.array(shed_oat)\n",
    "print(shed_oat)"
   ]
  },
  {
   "cell_type": "code",
   "execution_count": 43,
   "id": "524d2eab",
   "metadata": {},
   "outputs": [],
   "source": [
    "shed_oat=shed_oat*1.8+32. # convert shed_out to Fehrenheit"
   ]
  },
  {
   "cell_type": "code",
   "execution_count": 44,
   "id": "69a6e9f7",
   "metadata": {},
   "outputs": [
    {
     "name": "stdout",
     "output_type": "stream",
     "text": [
      "[70.79194824 61.18292353 60.03242706 74.63703412 72.78125529 76.8533    ]\n"
     ]
    }
   ],
   "source": [
    "print(shed_oat)"
   ]
  },
  {
   "cell_type": "code",
   "execution_count": 45,
   "id": "813ae06f",
   "metadata": {},
   "outputs": [
    {
     "data": {
      "image/png": "[encoded data removed]",
      "text/plain": [
       "<Figure size 1080x576 with 1 Axes>"
      ]
     },
     "metadata": {
      "needs_background": "light"
     },
     "output_type": "display_data"
    }
   ],
   "source": [
    "fig,ax=plt.subplots()\n",
    "\n",
    "\n",
    "res = stats.linregress(shed_oat, shed_1a)\n",
    "m=res.slope\n",
    "b=res.intercept\n",
    "r_squared=res.rvalue**2\n",
    "\n",
    "\n",
    "\n",
    "\n",
    "plt.plot(shed_oat,shed_1a,\".\", label=\"Field Test Value\")\n",
    "equation=\"Best Fit: y=\"+str(round(m,2))+\"x\"+str(round(b,2))+\", r^2=\"+str(round(r_squared,4))\n",
    "plt.plot(shed_oat, m*shed_oat + b, label=equation)\n",
    "\n",
    "\n",
    "\n",
    "plt.title('Avg Demand during Shed vs Avg OAT (Baseline)',fontsize=20)\n",
    "plt.xlabel('Outdoor Temperature (°F)',fontsize=15)\n",
    "plt.ylabel('Power during Shed (W)',fontsize=15)\n",
    "fig.set_size_inches(15, 8)\n",
    "\n",
    "\n",
    "\n",
    "\n",
    "\n",
    "plt.legend(loc=2,fontsize=13)\n",
    "plt.show()\n",
    "\n",
    "\n",
    "\n"
   ]
  },
  {
   "cell_type": "code",
   "execution_count": 46,
   "id": "4f6aef9f",
   "metadata": {},
   "outputs": [
    {
     "name": "stdout",
     "output_type": "stream",
     "text": [
      "[ 926.90435298  902.23526407  718.4312798   935.15753485 1082.21404542\n",
      " 1177.2822548 ]\n"
     ]
    }
   ],
   "source": [
    "shift_1a = np.array(shift_1a)\n",
    "print(shift_1a)"
   ]
  },
  {
   "cell_type": "code",
   "execution_count": 47,
   "id": "32413009",
   "metadata": {},
   "outputs": [
    {
     "name": "stdout",
     "output_type": "stream",
     "text": [
      "[21.32005882 17.1559     15.06088235 21.65605294 19.03764706 22.60790588]\n"
     ]
    }
   ],
   "source": [
    "shift_oat = np.array(shift_oat)\n",
    "print(shift_oat)"
   ]
  },
  {
   "cell_type": "code",
   "execution_count": 48,
   "id": "da0d98a2",
   "metadata": {},
   "outputs": [
    {
     "name": "stdout",
     "output_type": "stream",
     "text": [
      "[70.37610588 62.88062    59.10958824 70.98089529 66.26776471 72.69423059]\n"
     ]
    }
   ],
   "source": [
    "shift_oat=shift_oat*1.8+32. # convert shed_out to Fehrenheit\n",
    "print(shift_oat)"
   ]
  },
  {
   "cell_type": "code",
   "execution_count": 49,
   "id": "c597bf2a",
   "metadata": {},
   "outputs": [
    {
     "data": {
      "image/png": "[encoded data removed]",
      "text/plain": [
       "<Figure size 1080x576 with 1 Axes>"
      ]
     },
     "metadata": {
      "needs_background": "light"
     },
     "output_type": "display_data"
    }
   ],
   "source": [
    "fig,ax=plt.subplots()\n",
    "\n",
    "\n",
    "res2 = stats.linregress(shift_oat, shift_1a)\n",
    "m2=res2.slope\n",
    "b2=res2.intercept\n",
    "r_squared2=res2.rvalue**2\n",
    "\n",
    "\n",
    "\n",
    "\n",
    "plt.plot(shift_oat,shift_1a,\".\", label=\"Field Test Value\")\n",
    "equation=\"Best Fit: y=\"+str(round(m2,2))+\"x\"+str(round(b2,2))+\", r^2=\"+str(round(r_squared2,4))\n",
    "plt.plot(shift_oat, m2*shift_oat + b2, label=equation)\n",
    "\n",
    "\n",
    "\n",
    "plt.title('Avg Demand during Precool vs Avg OAT (Baseline)',fontsize=20)\n",
    "plt.xlabel('Outdoor Temperature (°F)',fontsize=15)\n",
    "plt.ylabel('Power during Shift (W)',fontsize=15)\n",
    "fig.set_size_inches(15, 8)\n",
    "\n",
    "\n",
    "\n",
    "\n",
    "\n",
    "plt.legend(loc=2,fontsize=13)\n",
    "plt.show()\n",
    "\n",
    "\n"
   ]
  },
  {
   "cell_type": "markdown",
   "id": "5f227f93",
   "metadata": {},
   "source": [
    "# Shed: demand vs AVG OAT (shed period)"
   ]
  },
  {
   "cell_type": "code",
   "execution_count": 50,
   "id": "27393cce",
   "metadata": {},
   "outputs": [
    {
     "name": "stdout",
     "output_type": "stream",
     "text": [
      "22\n",
      "23\n",
      "1\n"
     ]
    }
   ],
   "source": [
    "en_1a = []\n",
    "en_1b = []\n",
    "shed_1a=[]\n",
    "shed_oat=[]\n",
    "\n",
    "\n",
    "\n",
    "# define dates for the calculation\n",
    "for day in range(22, 24):    \n",
    "    mask_1 = data21['date'] == datetime.date(2021, 8, day)\n",
    "    print(day)\n",
    "    day_en_1a = round((data20['cooling_power [W]'][mask_1].sum()/4000),2)\n",
    "    en_1a.append(day_en_1a)\n",
    "      \n",
    "    day_en_1b = round((data21['cooling_power [W]'][mask_1].sum()/4000),2)\n",
    "    en_1b.append(day_en_1b)\n",
    "    \n",
    "    day_shed_1a = (data20['cooling_power [W]'][mask_1][gta_ts].mean())   # only select 2-6pm\n",
    "    shed_1a.append(day_shed_1a)\n",
    "    \n",
    "    shed_oat_mean=(data20['1B-OAT-1'][mask_1][gta_ts].mean())  # outdoor air temperature average from 2-6pm\n",
    "    shed_oat.append(shed_oat_mean) # make daily average temp a list\n",
    "    \n",
    "\n",
    "    \n",
    "for day in range(1, 2):    \n",
    "    mask_1 = data21['date'] == datetime.date(2021, 9, day)\n",
    "    print(day)\n",
    "    day_en_1a = round((data20['cooling_power [W]'][mask_1].sum()/4000),2)\n",
    "    en_1a.append(day_en_1a)\n",
    "      \n",
    "    day_en_1b = round((data21['cooling_power [W]'][mask_1].sum()/4000),2)\n",
    "    en_1b.append(day_en_1b)\n",
    "    \n",
    "    day_shed_1a = (data20['cooling_power [W]'][mask_1][gta_ts].mean())   # only select 2-6pm\n",
    "    shed_1a.append(day_shed_1a)\n",
    "    \n",
    "    shed_oat_mean=(data20['1B-OAT-1'][mask_1][gta_ts].mean())  # outdoor air temperature average from 2-6pm\n",
    "    shed_oat.append(shed_oat_mean) # make daily average temp a list\n",
    "    \n"
   ]
  },
  {
   "cell_type": "code",
   "execution_count": 51,
   "id": "4cc209d3",
   "metadata": {},
   "outputs": [
    {
     "name": "stdout",
     "output_type": "stream",
     "text": [
      "[841.62544125 753.04854084 764.23284001]\n",
      "[19.47745294 16.73550588 17.94892941]\n",
      "[67.05941529 62.12391059 64.30807294]\n"
     ]
    },
    {
     "data": {
      "image/png": "[encoded data removed]",
      "text/plain": [
       "<Figure size 1080x576 with 1 Axes>"
      ]
     },
     "metadata": {
      "needs_background": "light"
     },
     "output_type": "display_data"
    }
   ],
   "source": [
    "shed_1a = np.array(shed_1a)\n",
    "print(shed_1a)\n",
    "\n",
    "shed_oat = np.array(shed_oat)\n",
    "print(shed_oat)\n",
    "\n",
    "shed_oat=shed_oat*1.8+32. # convert shed_out to Fehrenheit\n",
    "\n",
    "print(shed_oat)\n",
    "\n",
    "fig,ax=plt.subplots()\n",
    "\n",
    "res = stats.linregress(shed_oat, shed_1a)\n",
    "m=res.slope\n",
    "b=res.intercept\n",
    "r_squared=res.rvalue**2\n",
    "\n",
    "\n",
    "\n",
    "plt.plot(shed_oat,shed_1a,\".\", label=\"Field Test Value\")\n",
    "equation=\"Best Fit: y=\"+str(round(m,2))+\"x\"+str(round(b,2))+\", r^2=\"+str(round(r_squared,4))\n",
    "plt.plot(shed_oat, m*shed_oat + b, label=equation)\n",
    "\n",
    "\n",
    "\n",
    "plt.title('Avg Demand during Shed vs Avg OAT (Shed Period)',fontsize=20)\n",
    "plt.xlabel('Outdoor Temperature (°F)',fontsize=15)\n",
    "plt.ylabel('Power during Shed (W)',fontsize=15)\n",
    "fig.set_size_inches(15, 8)\n",
    "\n",
    "\n",
    "\n",
    "\n",
    "\n",
    "plt.legend(loc=2,fontsize=13)\n",
    "plt.show()\n"
   ]
  },
  {
   "cell_type": "markdown",
   "id": "008f50d9",
   "metadata": {},
   "source": [
    "# Shift: demand vs AVG OAT (shed and shift periods)\n"
   ]
  },
  {
   "cell_type": "code",
   "execution_count": 52,
   "id": "877ac8ec",
   "metadata": {},
   "outputs": [
    {
     "name": "stdout",
     "output_type": "stream",
     "text": [
      "28\n",
      "29\n",
      "6\n",
      "7\n"
     ]
    }
   ],
   "source": [
    "en_1a = []\n",
    "en_1b = []\n",
    "shed_1a=[]\n",
    "shed_oat=[]\n",
    "shift_1a=[]\n",
    "shift_oat=[]\n",
    "\n",
    "# define dates for the calculation\n",
    "for day in range(28, 30):    \n",
    "    mask_1 = data21['date'] == datetime.date(2021, 8, day)\n",
    "    print(day)\n",
    "    day_en_1a = round((data20['cooling_power [W]'][mask_1].sum()/4000),2)\n",
    "    en_1a.append(day_en_1a)\n",
    "      \n",
    "    day_en_1b = round((data21['cooling_power [W]'][mask_1].sum()/4000),2)\n",
    "    en_1b.append(day_en_1b)\n",
    "    \n",
    "    day_shed_1a = (data20['cooling_power [W]'][mask_1][gta_ts].mean())   # only select 2-6pm\n",
    "    shed_1a.append(day_shed_1a)\n",
    "    \n",
    "    shed_oat_mean=(data20['1B-OAT-1'][mask_1][gta_ts].mean())  # outdoor air temperature average from 2-6pm\n",
    "    shed_oat.append(shed_oat_mean) # make daily average temp a list\n",
    "    \n",
    "    day_shift_1a = (data20['cooling_power [W]'][mask_1][precool_ts].mean())   # only select 10-2pm\n",
    "    shift_1a.append(day_shift_1a)\n",
    "    \n",
    "    shift_oat_mean=(data20['1B-OAT-1'][mask_1][precool_ts].mean())  # outdoor air temperature average from 10-2pm\n",
    "    shift_oat.append(shift_oat_mean) # make daily average temp a list\n",
    "    \n",
    "for day in range(6, 8):    \n",
    "    mask_1 = data21['date'] == datetime.date(2021, 9, day)\n",
    "    print(day)\n",
    "    day_en_1a = round((data20['cooling_power [W]'][mask_1].sum()/4000),2)\n",
    "    en_1a.append(day_en_1a)\n",
    "      \n",
    "    day_en_1b = round((data21['cooling_power [W]'][mask_1].sum()/4000),2)\n",
    "    en_1b.append(day_en_1b)\n",
    "    \n",
    "    day_shed_1a = (data20['cooling_power [W]'][mask_1][gta_ts].mean())   # only select 2-6pm\n",
    "    shed_1a.append(day_shed_1a)\n",
    "    \n",
    "    shed_oat_mean=(data20['1B-OAT-1'][mask_1][gta_ts].mean())  # outdoor air temperature average from 2-6pm\n",
    "    shed_oat.append(shed_oat_mean) # make daily average temp a list\n",
    "    \n",
    "    day_shift_1a = (data20['cooling_power [W]'][mask_1][precool_ts].mean())   # only select 10-2pm\n",
    "    shift_1a.append(day_shift_1a)\n",
    "    \n",
    "    shift_oat_mean=(data20['1B-OAT-1'][mask_1][precool_ts].mean())  # outdoor air temperature average from 10-2pm\n",
    "    shift_oat.append(shift_oat_mean) # make daily average temp a list"
   ]
  },
  {
   "cell_type": "code",
   "execution_count": 53,
   "id": "bf406d7f",
   "metadata": {},
   "outputs": [
    {
     "name": "stdout",
     "output_type": "stream",
     "text": [
      "[1156.9077794  1043.16616081 1125.73086014 1055.76363525]\n",
      "[28.16618824 22.76262353 27.22407647 22.53763529]\n",
      "[82.69913882 72.97272235 81.00333765 72.56774353]\n"
     ]
    },
    {
     "data": {
      "image/png": "[encoded data removed]",
      "text/plain": [
       "<Figure size 1080x576 with 1 Axes>"
      ]
     },
     "metadata": {
      "needs_background": "light"
     },
     "output_type": "display_data"
    }
   ],
   "source": [
    "shed_1a = np.array(shed_1a)\n",
    "print(shed_1a)\n",
    "\n",
    "shed_oat = np.array(shed_oat)\n",
    "print(shed_oat)\n",
    "\n",
    "shed_oat=shed_oat*1.8+32# convert shed_out to Fehrenheit\n",
    "\n",
    "print(shed_oat)\n",
    "\n",
    "fig,ax=plt.subplots()\n",
    "\n",
    "res = stats.linregress(shed_oat, shed_1a)\n",
    "m=res.slope\n",
    "b=res.intercept\n",
    "r_squared=res.rvalue**2\n",
    "\n",
    "\n",
    "\n",
    "plt.plot(shed_oat,shed_1a,\".\", label=\"Field Test Value\")\n",
    "equation=\"Best Fit: y=\"+str(round(m,2))+\"x+\"+str(round(b,2))+\", r^2=\"+str(round(r_squared,4))\n",
    "plt.plot(shed_oat, m*shed_oat + b, label=equation)\n",
    "\n",
    "\n",
    "\n",
    "plt.title('Avg Demand during Shed vs Avg OAT (Shift Period)',fontsize=20)\n",
    "plt.xlabel('Outdoor Temperature (°F)',fontsize=15)\n",
    "plt.ylabel('Power during Shed (W)',fontsize=15)\n",
    "fig.set_size_inches(15, 8)\n",
    "\n",
    "\n",
    "\n",
    "\n",
    "\n",
    "plt.legend(loc=2,fontsize=13)\n",
    "plt.show()\n"
   ]
  },
  {
   "cell_type": "code",
   "execution_count": 54,
   "id": "808e2dc7",
   "metadata": {},
   "outputs": [
    {
     "name": "stdout",
     "output_type": "stream",
     "text": [
      "[1433.69021409 1408.91824902 1321.22639926 1330.47654437]\n",
      "[28.86018824 21.76449412 25.0763     21.0391    ]\n",
      "[83.94833882 71.17608941 77.13734    69.87038   ]\n"
     ]
    },
    {
     "data": {
      "image/png": "[encoded data removed]",
      "text/plain": [
       "<Figure size 1080x576 with 1 Axes>"
      ]
     },
     "metadata": {
      "needs_background": "light"
     },
     "output_type": "display_data"
    }
   ],
   "source": [
    "shift_1a = np.array(shift_1a)\n",
    "print(shift_1a)\n",
    "\n",
    "shift_oat = np.array(shift_oat)\n",
    "print(shift_oat)\n",
    "\n",
    "shift_oat=shift_oat*1.8+32. # convert shed_out to Fehrenheit\n",
    "print(shift_oat)\n",
    "\n",
    "\n",
    "\n",
    "fig,ax=plt.subplots()\n",
    "\n",
    "\n",
    "res2 = stats.linregress(shift_oat, shift_1a)\n",
    "m2=res2.slope\n",
    "b2=res2.intercept\n",
    "r_squared2=res2.rvalue**2\n",
    "\n",
    "\n",
    "\n",
    "\n",
    "plt.plot(shift_oat,shift_1a,\".\", label=\"Field Test Value\")\n",
    "equation=\"Best Fit: y=\"+str(round(m2,2))+\"x+\"+str(round(b2,2))+\", r^2=\"+str(round(r_squared2,4))\n",
    "plt.plot(shift_oat, m2*shift_oat + b2, label=equation)\n",
    "\n",
    "\n",
    "\n",
    "plt.title('Avg Demand during Precool vs Avg OAT (Shift Period)',fontsize=20)\n",
    "plt.xlabel('Outdoor Temperature (°F)',fontsize=15)\n",
    "plt.ylabel('Power during Shift (W)',fontsize=15)\n",
    "fig.set_size_inches(15, 8)\n",
    "\n",
    "\n",
    "\n",
    "\n",
    "\n",
    "plt.legend(loc=2,fontsize=13)\n",
    "plt.show()"
   ]
  },
  {
   "cell_type": "code",
   "execution_count": 55,
   "id": "77b5006a",
   "metadata": {},
   "outputs": [
    {
     "name": "stdout",
     "output_type": "stream",
     "text": [
      "15\n",
      "16\n",
      "17\n",
      "18\n",
      "19\n",
      "20\n",
      "21\n",
      "22\n",
      "23\n",
      "24\n",
      "25\n",
      "26\n",
      "27\n",
      "28\n",
      "29\n",
      "30\n",
      "31\n",
      "1\n",
      "2\n",
      "3\n",
      "4\n",
      "5\n",
      "6\n",
      "7\n",
      "8\n",
      "9\n",
      "10\n",
      "11\n",
      "12\n",
      "13\n",
      "[70.792 77.677 70.374 66.604 67.244 61.183 60.032 67.059 62.124 65.258\n",
      " 66.776 74.637    nan 82.699 72.973 70.527 67.014 64.308 65.168 64.688\n",
      " 72.781 76.853 81.003 72.568 75.35  69.471 65.877 68.135 73.577 72.023]\n",
      "[70.376 72.024 65.975 67.183 67.249 62.881 59.11  63.47  61.859 62.978\n",
      " 62.209 70.981 79.142 83.948 71.176 67.383 65.886 63.015 62.852 62.732\n",
      " 66.268 72.694 77.137 69.87  75.979 69.072 64.669 67.701 70.277 69.099]\n"
     ]
    }
   ],
   "source": [
    "en_1a = []\n",
    "en_1b = []\n",
    "shed_1a=[]\n",
    "shed_oat=[]\n",
    "shift_1a=[]\n",
    "shift_oat=[]\n",
    "\n",
    "# define dates for the calculation\n",
    "for day in range(15, 32):    \n",
    "    mask_1 = data21['date'] == datetime.date(2021, 8, day)\n",
    "    print(day)\n",
    "    \n",
    "    \n",
    "    shed_oat_mean=(data20['1B-OAT-1'][mask_1][gta_ts].mean())  # outdoor air temperature average from 2-6pm\n",
    "    shed_oat_mean=shed_oat_mean*1.8+32\n",
    "    shed_oat_mean=round(shed_oat_mean,3)\n",
    "    shed_oat.append(shed_oat_mean) # make daily average temp a list\n",
    "    \n",
    "\n",
    "    \n",
    "    shift_oat_mean=(data20['1B-OAT-1'][mask_1][precool_ts].mean())  # outdoor air temperature average from 10-2pm\n",
    "    shift_oat_mean=shift_oat_mean*1.8+32\n",
    "    shift_oat_mean=round(shift_oat_mean,3)\n",
    "    shift_oat.append(shift_oat_mean) # make daily average temp a list\n",
    "    \n",
    "for day in range(1, 14):    \n",
    "    mask_1 = data21['date'] == datetime.date(2021, 9, day)\n",
    "    print(day)\n",
    "\n",
    "    \n",
    "    shed_oat_mean=(data20['1B-OAT-1'][mask_1][gta_ts].mean())  # outdoor air temperature average from 2-6pm\n",
    "    shed_oat_mean=shed_oat_mean*1.8+32\n",
    "    shed_oat_mean=round(shed_oat_mean,3)\n",
    "    shed_oat.append(shed_oat_mean) # make daily average temp a list\n",
    "    \n",
    "    \n",
    "    shift_oat_mean=(data20['1B-OAT-1'][mask_1][precool_ts].mean())  # outdoor air temperature average from 10-2pm\n",
    "    shift_oat_mean=shift_oat_mean*1.8+32\n",
    "    shift_oat_mean=round(shift_oat_mean,3)\n",
    "    shift_oat.append(shift_oat_mean) # make daily average temp a list\n",
    "    \n",
    "shed_oat = np.array(shed_oat)\n",
    "\n",
    "\n",
    "\n",
    "print(shed_oat)\n",
    "\n",
    "shift_oat = np.array(shift_oat)\n",
    "\n",
    "print(shift_oat)\n"
   ]
  },
  {
   "cell_type": "code",
   "execution_count": 56,
   "id": "bb254382",
   "metadata": {},
   "outputs": [
    {
     "name": "stdout",
     "output_type": "stream",
     "text": [
      "70.792\n",
      "77.677\n",
      "70.374\n",
      "66.604\n",
      "67.244\n",
      "61.183\n",
      "60.032\n",
      "67.059\n",
      "62.124\n",
      "65.258\n",
      "66.776\n",
      "74.637\n",
      "nan\n",
      "82.699\n",
      "72.973\n",
      "70.527\n",
      "67.014\n",
      "64.308\n",
      "65.168\n",
      "64.688\n",
      "72.781\n",
      "76.853\n",
      "81.003\n",
      "72.568\n",
      "75.35\n",
      "69.471\n",
      "65.877\n",
      "68.135\n",
      "73.577\n",
      "72.023\n"
     ]
    }
   ],
   "source": [
    "for x in shed_oat:\n",
    "    print(x) "
   ]
  },
  {
   "cell_type": "code",
   "execution_count": 57,
   "id": "df7e417c",
   "metadata": {},
   "outputs": [
    {
     "name": "stdout",
     "output_type": "stream",
     "text": [
      "70.376\n",
      "72.024\n",
      "65.975\n",
      "67.183\n",
      "67.249\n",
      "62.881\n",
      "59.11\n",
      "63.47\n",
      "61.859\n",
      "62.978\n",
      "62.209\n",
      "70.981\n",
      "79.142\n",
      "83.948\n",
      "71.176\n",
      "67.383\n",
      "65.886\n",
      "63.015\n",
      "62.852\n",
      "62.732\n",
      "66.268\n",
      "72.694\n",
      "77.137\n",
      "69.87\n",
      "75.979\n",
      "69.072\n",
      "64.669\n",
      "67.701\n",
      "70.277\n",
      "69.099\n"
     ]
    }
   ],
   "source": [
    "for x in shift_oat:\n",
    "    print(x) "
   ]
  },
  {
   "cell_type": "code",
   "execution_count": null,
   "id": "954eb904",
   "metadata": {},
   "outputs": [],
   "source": []
  },
  {
   "cell_type": "code",
   "execution_count": null,
   "id": "a373bd0b",
   "metadata": {},
   "outputs": [],
   "source": []
  },
  {
   "cell_type": "code",
   "execution_count": null,
   "id": "ca991632",
   "metadata": {},
   "outputs": [],
   "source": []
  },
  {
   "cell_type": "code",
   "execution_count": 58,
   "id": "7f1e9dad",
   "metadata": {},
   "outputs": [
    {
     "data": {
      "text/plain": [
       "70.374"
      ]
     },
     "execution_count": 58,
     "metadata": {},
     "output_type": "execute_result"
    }
   ],
   "source": [
    "\n",
    "shed_oat.item(2)"
   ]
  },
  {
   "cell_type": "code",
   "execution_count": 59,
   "id": "0ba757a3",
   "metadata": {},
   "outputs": [
    {
     "data": {
      "text/plain": [
       "30"
      ]
     },
     "execution_count": 59,
     "metadata": {},
     "output_type": "execute_result"
    }
   ],
   "source": [
    "shed_oat.size"
   ]
  },
  {
   "cell_type": "code",
   "execution_count": 60,
   "id": "aa6df6f4",
   "metadata": {},
   "outputs": [
    {
     "name": "stdout",
     "output_type": "stream",
     "text": [
      "70.792\n",
      "77.677\n",
      "70.374\n",
      "66.604\n",
      "67.244\n",
      "61.183\n",
      "60.032\n",
      "67.059\n",
      "62.124\n",
      "65.258\n",
      "66.776\n",
      "74.637\n",
      "nan\n",
      "82.699\n",
      "72.973\n",
      "70.527\n",
      "67.014\n",
      "64.308\n",
      "65.168\n",
      "64.688\n",
      "72.781\n",
      "76.853\n",
      "81.003\n",
      "72.568\n",
      "75.35\n",
      "69.471\n",
      "65.877\n",
      "68.135\n",
      "73.577\n",
      "72.023\n"
     ]
    }
   ],
   "source": [
    "for x in shed_oat:\n",
    "    print(x) "
   ]
  },
  {
   "cell_type": "code",
   "execution_count": null,
   "id": "36f01cd0",
   "metadata": {},
   "outputs": [],
   "source": []
  }
 ],
 "metadata": {
  "kernelspec": {
   "display_name": "Python 3 (ipykernel)",
   "language": "python",
   "name": "python3"
  },
  "language_info": {
   "codemirror_mode": {
    "name": "ipython",
    "version": 3
   },
   "file_extension": ".py",
   "mimetype": "text/x-python",
   "name": "python",
   "nbconvert_exporter": "python",
   "pygments_lexer": "ipython3",
   "version": "3.8.8"
  }
 },
 "nbformat": 4,
 "nbformat_minor": 5
}
