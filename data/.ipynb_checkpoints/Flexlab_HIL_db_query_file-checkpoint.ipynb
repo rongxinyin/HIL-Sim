{
 "cells": [
  {
   "cell_type": "code",
   "execution_count": 1,
   "metadata": {},
   "outputs": [],
   "source": [
    "import os\n",
    "import sys\n",
    "import datetime\n",
    "import pytz\n",
    "\n",
    "if '../' not in sys.path:\n",
    "    sys.path.append('../')"
   ]
  },
  {
   "cell_type": "code",
   "execution_count": 3,
   "metadata": {},
   "outputs": [],
   "source": [
    "# GENERAL PACKAGE IMPORT\n",
    "# ----------------------\n",
    "from flexlab.db_layer.db_interface import DB_Interface\n",
    "import requests\n",
    "import numpy as np\n",
    "import json\n",
    "import pandas as pd\n",
    "from pandas import DataFrame\n",
    "from io import StringIO\n",
    "\n",
    "import datetime as dt\n",
    "import datetime\n",
    "import matplotlib\n",
    "import matplotlib.pyplot as plt\n",
    "import seaborn as sns\n",
    "\n",
    "from matplotlib.dates import date2num\n",
    "import seaborn\n",
    "import timeit\n",
    "import json\n",
    "import pickle\n",
    "\n",
    "import matplotlib.pyplot as plt\n",
    "import datetime"
   ]
  },
  {
   "cell_type": "code",
   "execution_count": null,
   "metadata": {},
   "outputs": [],
   "source": []
  },
  {
   "cell_type": "code",
   "execution_count": 4,
   "metadata": {
    "scrolled": false
   },
   "outputs": [],
   "source": [
    "db = DB_Interface(\"db_interface_config_template_metrics.yaml\")"
   ]
  },
  {
   "cell_type": "code",
   "execution_count": 5,
   "metadata": {},
   "outputs": [],
   "source": [
    "def process_input(input):\n",
    "    data = pd.read_csv(input + '.csv',encoding='latin1', index_col = 0, parse_dates = True)\n",
    "    \n",
    "    print(type(data.index))\n",
    "\n",
    "\n",
    "    data= data.resample('15min').last()\n",
    "    data['datetime'] = data.index\n",
    "    data.to_csv(input+ '_revised.csv')  \n",
    "    return(data)"
   ]
  },
  {
   "cell_type": "markdown",
   "metadata": {},
   "source": [
    "### Test data query"
   ]
  },
  {
   "cell_type": "code",
   "execution_count": 6,
   "metadata": {
    "scrolled": false
   },
   "outputs": [],
   "source": [
    "st = datetime.datetime(2021,8,12,23,45,0)\n",
    "en = datetime.datetime(2021,8,15,23,45,0)\n",
    "test_cella = db.get_data(st, en, cell='1a', include_setpoints = False)\n",
    "test_cellb = db.get_data(st, en, cell='1b', include_setpoints = False)"
   ]
  },
  {
   "cell_type": "code",
   "execution_count": 7,
   "metadata": {},
   "outputs": [
    {
     "name": "stdout",
     "output_type": "stream",
     "text": [
      "Index(['desk1_plug_power', 'desk2_plug_power', 'desk3_plug_power',\n",
      "       'desk4_plug_power', 'desk5_plug_power', 'desk6_plug_power',\n",
      "       'desk3_light_power', 'desk4_light_power', 'desk2_light_power',\n",
      "       'desk1_6_light_power', 'desk5_light_power', '1A-VAV1-Zn_Temp',\n",
      "       '1A-VAV2-Zn_Temp', '1A-VAV3-Zn_Temp', '1A-VAV1-OccupiedCoolingSetpt',\n",
      "       '1A-VAV1-UnoccupiedCoolingSetpt', '1A-VAV1-OccupiedHeatingSetpt',\n",
      "       '1A-VAV1-UnoccupiedHeatingSetpt', '1A-VAV2-OccupiedCoolingSetpt',\n",
      "       '1A-VAV2-UnoccupiedHeatingSetpt', '1A-VAV2-UnoccupiedCoolingSetpt',\n",
      "       '1A-VAV2-OccupiedHeatingSetpt', '1A-VAV3-OccupiedCoolingSetpt',\n",
      "       '1A-VAV3-UnoccupiedHeatingSetpt', '1A-VAV3-UnoccupiedCoolingSetpt',\n",
      "       '1A-VAV3-OccupiedHeatingSetpt', '1A-El-AHU', '1A-El-CHWP', '1A-El-HWP',\n",
      "       '1A-El-Exhaust Fan', '1A-Th-Chilled Water', '1B-OAT-1',\n",
      "       '1A-MidZone-TCS6-DBT', '1A-NorthZone-DBT', '1A-WindowZone-TCS7-DBT',\n",
      "       '1A-VAV1-DischargeAirTemp', '1A-VAV2-DischargeAirTemp',\n",
      "       '1A-VAV3-DischargeAirTemp', '1A-VAV1-DischargeAirflow',\n",
      "       '1A-VAV2-DischargeAirflow', '1A-VAV3-DischargeAirflow', '1A-ASAM-1',\n",
      "       '1A-ARAM-1', '1A-SAT-1', '1A-OADA-1-POSN', '1A-RADA-1-POSN'],\n",
      "      dtype='object')\n",
      "time\n",
      "2021-08-12 23:45:00   -1117.389127\n",
      "2021-08-13 00:00:00   -1344.292560\n",
      "2021-08-13 00:15:00   -1213.574265\n",
      "2021-08-13 00:30:00   -1258.740022\n",
      "2021-08-13 00:45:00   -1201.540542\n",
      "Freq: 15T, Name: 1A-Th-Chilled Water, dtype: float64\n"
     ]
    }
   ],
   "source": [
    "print(test_cella.columns)\n",
    "print(test_cella['1A-Th-Chilled Water'].head())"
   ]
  },
  {
   "cell_type": "code",
   "execution_count": 8,
   "metadata": {},
   "outputs": [
    {
     "name": "stdout",
     "output_type": "stream",
     "text": [
      "<class 'pandas.core.indexes.datetimes.DatetimeIndex'>\n",
      "<class 'pandas.core.indexes.datetimes.DatetimeIndex'>\n"
     ]
    }
   ],
   "source": [
    "test_cella.to_csv('test_cella.csv', index = True)\n",
    "test_cellb.to_csv('test_cellb.csv',index = True)\n",
    "path1 = 'test_cella'\n",
    "path2 = 'test_cellb'\n",
    "data20 = process_input(path1)\n",
    "data21 = process_input(path2)"
   ]
  },
  {
   "cell_type": "code",
   "execution_count": 9,
   "metadata": {},
   "outputs": [
    {
     "name": "stdout",
     "output_type": "stream",
     "text": [
      "                     desk1_plug_power  desk2_plug_power  desk3_plug_power  \\\n",
      "time                                                                        \n",
      "2021-08-12 23:45:00               NaN               NaN               NaN   \n",
      "2021-08-13 00:00:00         34.273620          7.809467         34.245727   \n",
      "2021-08-13 00:15:00         34.159140          7.927360         34.612927   \n",
      "2021-08-13 00:30:00         34.138860          8.019200         34.582240   \n",
      "2021-08-13 00:45:00         34.389307          8.130880         34.335833   \n",
      "\n",
      "                     desk4_plug_power  desk5_plug_power  desk6_plug_power  \\\n",
      "time                                                                        \n",
      "2021-08-12 23:45:00               NaN               NaN               NaN   \n",
      "2021-08-13 00:00:00         34.187480         35.766853         34.499253   \n",
      "2021-08-13 00:15:00         34.289027         36.371713         34.641167   \n",
      "2021-08-13 00:30:00         34.742173         36.244753         34.716340   \n",
      "2021-08-13 00:45:00         34.629060         35.941413         34.795913   \n",
      "\n",
      "                     desk3_light_power  desk4_light_power  desk2_light_power  \\\n",
      "time                                                                           \n",
      "2021-08-12 23:45:00                NaN                NaN                NaN   \n",
      "2021-08-13 00:00:00           0.600367           0.594360           0.599687   \n",
      "2021-08-13 00:15:00           0.601567           0.595260           0.600807   \n",
      "2021-08-13 00:30:00           0.603100           0.592473           0.601493   \n",
      "2021-08-13 00:45:00           0.601660           0.593293           0.600813   \n",
      "\n",
      "                     desk1_6_light_power  ...  1A-VAV2-DischargeAirTemp  \\\n",
      "time                                      ...                             \n",
      "2021-08-12 23:45:00                  NaN  ...                     56.62   \n",
      "2021-08-13 00:00:00             1.185720  ...                     56.43   \n",
      "2021-08-13 00:15:00             1.197587  ...                     56.54   \n",
      "2021-08-13 00:30:00             1.190413  ...                     56.33   \n",
      "2021-08-13 00:45:00             1.189307  ...                     56.45   \n",
      "\n",
      "                     1A-VAV3-DischargeAirTemp  1A-VAV1-DischargeAirflow  \\\n",
      "time                                                                      \n",
      "2021-08-12 23:45:00                     56.36                     69.33   \n",
      "2021-08-13 00:00:00                     56.08                     69.07   \n",
      "2021-08-13 00:15:00                     56.17                     68.47   \n",
      "2021-08-13 00:30:00                     55.94                     69.11   \n",
      "2021-08-13 00:45:00                     56.05                     68.81   \n",
      "\n",
      "                     1A-VAV2-DischargeAirflow  1A-VAV3-DischargeAirflow  \\\n",
      "time                                                                      \n",
      "2021-08-12 23:45:00                     67.98                    106.12   \n",
      "2021-08-13 00:00:00                     68.24                    106.70   \n",
      "2021-08-13 00:15:00                     67.73                    107.25   \n",
      "2021-08-13 00:30:00                     67.83                    106.25   \n",
      "2021-08-13 00:45:00                     67.52                    106.31   \n",
      "\n",
      "                      1A-ASAM-1  1A-ARAM-1   1A-SAT-1  1A-OADA-1-POSN  \\\n",
      "time                                                                    \n",
      "2021-08-12 23:45:00         NaN        NaN        NaN             NaN   \n",
      "2021-08-13 00:00:00  422.823333   0.752993  11.859480       94.628753   \n",
      "2021-08-13 00:15:00  428.253333   1.134860  11.782640       94.627113   \n",
      "2021-08-13 00:30:00  431.019333   1.269420  11.753747       94.630493   \n",
      "2021-08-13 00:45:00  430.488667   1.857413  11.768473       94.630920   \n",
      "\n",
      "                     1A-RADA-1-POSN  \n",
      "time                                 \n",
      "2021-08-12 23:45:00             NaN  \n",
      "2021-08-13 00:00:00       -1.040700  \n",
      "2021-08-13 00:15:00       -1.038253  \n",
      "2021-08-13 00:30:00       -1.040813  \n",
      "2021-08-13 00:45:00       -1.040633  \n",
      "\n",
      "[5 rows x 46 columns]\n"
     ]
    }
   ],
   "source": [
    "print(test_cella.head())"
   ]
  },
  {
   "cell_type": "markdown",
   "metadata": {},
   "source": [
    "### Model data query"
   ]
  },
  {
   "cell_type": "code",
   "execution_count": 27,
   "metadata": {},
   "outputs": [],
   "source": [
    "def process_input(input):\n",
    "    data = pd.read_csv(input,encoding='latin1')\n",
    "\n",
    "\n",
    "    data['datetime']=pd.Series()\n",
    "\n",
    "    date1 = datetime.datetime(2021,1,1,hour=0, minute=0, second=0)\n",
    "    nudate=pd.to_timedelta(data.time,unit='sec')+date1\n",
    "\n",
    "    data['datetime']=nudate\n",
    "    \n",
    "    data.index=data.datetime\n",
    "    data=data.resample('15min').last()\n",
    "    \n",
    "    \n",
    "    return(data)"
   ]
  },
  {
   "cell_type": "code",
   "execution_count": 28,
   "metadata": {},
   "outputs": [],
   "source": [
    "path = 'FlexlabX1aNoLeakBaseline0830.csv'"
   ]
  },
  {
   "cell_type": "code",
   "execution_count": 29,
   "metadata": {},
   "outputs": [
    {
     "name": "stdout",
     "output_type": "stream",
     "text": [
      "Index(['Unnamed: 0', 'time', 'VAV: Core Zone Discharge Air Temperature',\n",
      "       'AHU: Outdoor Air Damper Position', 'VAV Core Zone Cooling SP',\n",
      "       'VAV: North zone Q', 'VAV North Zone Heating SP',\n",
      "       'VAV: North Zone Reheat Control Signal',\n",
      "       'VAV: South Zone Room Air Temperature',\n",
      "       'VAV: South Zone Reheat Control Signal',\n",
      "       'VAV: South Zone Damper Control Signal', 'VAV North Zone Cooling SP',\n",
      "       'VAV: North Zone Airflow Rate', 'VAV: Core Zone Reheat Control Signal',\n",
      "       'AHU: Supply Air Temperature', 'AHU:Cooling Coil Load',\n",
      "       'AHU: Cooling coil Load', 'VAV: North Zone Damper Control Signal',\n",
      "       'VAV: Core zone Q', 'AHU: Supply Fan Power', 'AHU: RAT',\n",
      "       'VAV: South Zone Discharge Air Temperature',\n",
      "       'VAV: Core Zone Airflow Rate', 'VAV: South Zone Airflow Rate',\n",
      "       'VAV: North Zone Room Air Temperature',\n",
      "       'AHU: Return Air Damper Position', 'VAV South Zone Heating SP',\n",
      "       'VAV Core Zone Heating SP', 'VAV: South zone Q',\n",
      "       'VAV: Core Zone Room Air Temperature', 'AHU: Supply Fan Airflow Rate',\n",
      "       'VAV: Core Zone Damper Control Signal', 'AHU: MAT',\n",
      "       'VAV South Zone Cooling SP',\n",
      "       'VAV: North Zone Discharge Air Temperature', 'Outdoor Air Temperature',\n",
      "       'datetime'],\n",
      "      dtype='object')\n"
     ]
    },
    {
     "name": "stderr",
     "output_type": "stream",
     "text": [
      "<ipython-input-27-f3a048ea0d08>:5: DeprecationWarning: The default dtype for empty Series will be 'object' instead of 'float64' in a future version. Specify a dtype explicitly to silence this warning.\n",
      "  data['datetime']=pd.Series()\n"
     ]
    }
   ],
   "source": [
    "model_cella = process_input(path)\n",
    "print(model_cella.columns)"
   ]
  },
  {
   "cell_type": "code",
   "execution_count": 21,
   "metadata": {},
   "outputs": [],
   "source": [
    "#print(model_cella.tail())"
   ]
  },
  {
   "cell_type": "code",
   "execution_count": 31,
   "metadata": {},
   "outputs": [],
   "source": [
    "model_cella.to_csv('model_cella_830.csv', index = True)"
   ]
  },
  {
   "cell_type": "code",
   "execution_count": null,
   "metadata": {},
   "outputs": [],
   "source": []
  }
 ],
 "metadata": {
  "kernelspec": {
   "display_name": "Python 3",
   "language": "python",
   "name": "python3"
  },
  "language_info": {
   "codemirror_mode": {
    "name": "ipython",
    "version": 3
   },
   "file_extension": ".py",
   "mimetype": "text/x-python",
   "name": "python",
   "nbconvert_exporter": "python",
   "pygments_lexer": "ipython3",
   "version": "3.8.8"
  }
 },
 "nbformat": 4,
 "nbformat_minor": 2
}
