{
 "cells": [
  {
   "cell_type": "code",
   "execution_count": 78,
   "id": "1fd0b452",
   "metadata": {},
   "outputs": [],
   "source": [
    "import requests\n",
    "import os\n",
    "import sys\n",
    "import datetime\n",
    "import pytz\n",
    "import yaml\n",
    "import pandas as pd"
   ]
  },
  {
   "cell_type": "code",
   "execution_count": 79,
   "id": "3f505e86",
   "metadata": {},
   "outputs": [],
   "source": [
    "if '../' not in sys.path:\n",
    "    sys.path.append('../')\n",
    " "
   ]
  },
  {
   "cell_type": "code",
   "execution_count": 80,
   "id": "60084060",
   "metadata": {},
   "outputs": [],
   "source": [
    "   from flexlab.db_layer.db_interface import DB_Interface"
   ]
  },
  {
   "cell_type": "code",
   "execution_count": 81,
   "id": "33fdfa2f",
   "metadata": {},
   "outputs": [],
   "source": [
    "def send_simple_message(api_key, recipients, message):\n",
    "    return requests.post(\n",
    "        \"https://api.mailgun.net/v3/sandbox244efac4658643d69658912e514bddb1.mailgun.org/messages\",\n",
    "        auth=(\"api\", api_key),\n",
    "        data={\"from\": \"Excited User <akprakash@lbl.gov>\",\n",
    "            \"to\": recipients,\n",
    "            \"subject\": \"Missing data alert\",\n",
    "            \"text\": message})"
   ]
  },
  {
   "cell_type": "code",
   "execution_count": 82,
   "id": "21c7de1b",
   "metadata": {},
   "outputs": [
    {
     "name": "stdout",
     "output_type": "stream",
     "text": [
      "The following columns have dissimilar values for more than 30 minutes: 1A-ASAM-1, 1B-ASAM-1.\n",
      "None\n",
      "error sending alert: b'Forbidden'\n"
     ]
    }
   ],
   "source": [
    "if __name__ == \"__main__\":\n",
    "\n",
    "    with open(\"db_interface_config_template_metrics.yaml\") as fp:\n",
    "    #with open(\"alerts_config.yaml\") as fp:\n",
    "    \n",
    "    # original file: \"alerts_config.yaml\" \n",
    "        config = yaml.safe_load(fp)\n",
    "\n",
    "    api_key = config.get('api_key')\n",
    "    recipients = config.get('recipients')\n",
    "\n",
    "    tz_local = pytz.timezone(\"US/Pacific\")\n",
    "    tz_utc = pytz.timezone(\"UTC\")\n",
    "\n",
    "    db = DB_Interface(config_file='db_interface_config_template_metrics.yaml')\n",
    "    #db = DB_Interface(config_file='db_interface_config_alerts.yaml')\n",
    "    \n",
    "    # original file: \"db_interface_config_alerts.yaml\"\n",
    "\n",
    "    et_utc = tz_utc.localize(datetime.datetime.utcnow())\n",
    "    et_local = et_utc.astimezone(tz_local)\n",
    "    st_local = et_local - datetime.timedelta(minutes=30)\n",
    "    \n",
    "    # Weiping changes the next 2 lines\n",
    "    \n",
    "    #st_local = et_local - datetime.timedelta(hours=67)\n",
    "    #et_local = et_local - datetime.timedelta(hours=65)\n",
    "\n",
    "    \n",
    "    error_cols_dict = {'1a': [], '1b': []}\n",
    "    \n",
    "    cell_1a_df=db.get_data(st=st_local, et=et_local, cell='1a') # full cell 1A data\n",
    "    cell_1b_df=db.get_data(st=st_local, et=et_local, cell='1b') # full cell 1B data\n",
    "    \n",
    "\n",
    "    first_datapoint='1A-ASAM-1'            # name of first datapoint to be compared\n",
    "    second_datapoint='1B-ASAM-1'         # name of second datapoint to be compared\n",
    "    df1=cell_1a_df[first_datapoint] \n",
    "    df2=cell_1b_df[second_datapoint] \n",
    "    df=pd.concat([df1, df2], axis=1)\n",
    "    \n",
    "    \n",
    "    df_mean=df.mean(axis=0)\n",
    "    error_tolerance_percentage=5      # in unit of %\n",
    "    percent_difference=abs((df_mean.iloc[0]-df_mean.iloc[1])/df_mean.iloc[0]*100)\n",
    "\n",
    "    if percent_difference>error_tolerance_percentage:\n",
    "        error=True\n",
    "    else:\n",
    "        error=False\n",
    "\n",
    "    msg = \"The following columns have dissimilar values for more than 30 minutes: \"+first_datapoint+', '+second_datapoint+'.'\n",
    "    #msg += '\\n' + ', '.join(error_cols) + '\\n'\n",
    "\n",
    "    if error:\n",
    "        print(msg)\n",
    "        print(recipients)\n",
    "        rsp = send_simple_message(api_key=api_key, recipients=recipients, message=msg)\n",
    "\n",
    "        if rsp.status_code == 200:\n",
    "            print(\"successfully sent alert\")\n",
    "        else:\n",
    "            print(\"error sending alert: \"+ str(rsp.content))\n",
    "    else:\n",
    "        print(\"no error columns\")"
   ]
  },
  {
   "cell_type": "code",
   "execution_count": 83,
   "id": "b1e0ce8f",
   "metadata": {},
   "outputs": [
    {
     "name": "stdout",
     "output_type": "stream",
     "text": [
      "8.872442997347452\n"
     ]
    }
   ],
   "source": [
    "print(percent_difference)"
   ]
  },
  {
   "cell_type": "markdown",
   "id": "a3307335",
   "metadata": {},
   "source": [
    "# Example datapoints"
   ]
  },
  {
   "cell_type": "code",
   "execution_count": 84,
   "id": "ecdb0227",
   "metadata": {},
   "outputs": [],
   "source": [
    "cell_1a_df=db.get_data(st=st_local, et=et_local, cell='1a') # cell can be '1a' or '1b'\n"
   ]
  },
  {
   "cell_type": "code",
   "execution_count": 85,
   "id": "5a84c659",
   "metadata": {},
   "outputs": [],
   "source": [
    "cell_1b_df=db.get_data(st=st_local, et=et_local, cell='1b') # cell can be '1a' or '1b'\n"
   ]
  },
  {
   "cell_type": "code",
   "execution_count": 86,
   "id": "5d90c00f",
   "metadata": {},
   "outputs": [
    {
     "name": "stdout",
     "output_type": "stream",
     "text": [
      "time\n",
      "2021-09-21 21:30:00    430.435000\n",
      "2021-09-21 21:45:00    429.176000\n",
      "2021-09-21 22:00:00    429.832000\n",
      "2021-09-21 22:15:00    429.722667\n",
      "2021-09-21 22:30:00    429.232667\n",
      "2021-09-21 22:45:00    428.613333\n",
      "2021-09-21 23:00:00    429.202000\n",
      "2021-09-21 23:15:00    429.821333\n",
      "2021-09-21 23:30:00    430.828462\n",
      "Freq: 15T, Name: 1A-ASAM-1, dtype: float64\n"
     ]
    }
   ],
   "source": [
    "df3=cell_1a_df['1A-ASAM-1']\n",
    "print(df3.tail(15))"
   ]
  },
  {
   "cell_type": "code",
   "execution_count": 87,
   "id": "9a2348c4",
   "metadata": {},
   "outputs": [
    {
     "name": "stdout",
     "output_type": "stream",
     "text": [
      "time\n",
      "2021-09-21 21:30:00    468.970000\n",
      "2021-09-21 21:45:00    471.356000\n",
      "2021-09-21 22:00:00    468.695333\n",
      "2021-09-21 22:15:00    467.460000\n",
      "2021-09-21 22:30:00    465.758000\n",
      "2021-09-21 22:45:00    465.891333\n",
      "2021-09-21 23:00:00    466.706667\n",
      "2021-09-21 23:15:00    466.816000\n",
      "2021-09-21 23:30:00    468.295385\n",
      "Freq: 15T, Name: 1B-ASAM-1, dtype: float64\n"
     ]
    }
   ],
   "source": [
    "df4=cell_1b_df['1B-ASAM-1']\n",
    "print(df4.tail(15))"
   ]
  },
  {
   "cell_type": "code",
   "execution_count": 88,
   "id": "42f2fe66",
   "metadata": {},
   "outputs": [
    {
     "name": "stdout",
     "output_type": "stream",
     "text": [
      "                      1A-ASAM-1   1B-ASAM-1\n",
      "time                                       \n",
      "2021-09-21 21:30:00  430.435000  468.970000\n",
      "2021-09-21 21:45:00  429.176000  471.356000\n",
      "2021-09-21 22:00:00  429.832000  468.695333\n",
      "2021-09-21 22:15:00  429.722667  467.460000\n",
      "2021-09-21 22:30:00  429.232667  465.758000\n",
      "2021-09-21 22:45:00  428.613333  465.891333\n",
      "2021-09-21 23:00:00  429.202000  466.706667\n",
      "2021-09-21 23:15:00  429.821333  466.816000\n",
      "2021-09-21 23:30:00  430.828462  468.295385\n"
     ]
    }
   ],
   "source": [
    "df0=pd.concat([df3, df4], axis=1)\n",
    "print(df0)"
   ]
  }
 ],
 "metadata": {
  "kernelspec": {
   "display_name": "Python 3",
   "language": "python",
   "name": "python3"
  },
  "language_info": {
   "codemirror_mode": {
    "name": "ipython",
    "version": 3
   },
   "file_extension": ".py",
   "mimetype": "text/x-python",
   "name": "python",
   "nbconvert_exporter": "python",
   "pygments_lexer": "ipython3",
   "version": "3.8.8"
  }
 },
 "nbformat": 4,
 "nbformat_minor": 5
}
