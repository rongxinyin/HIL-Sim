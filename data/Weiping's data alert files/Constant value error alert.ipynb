{
 "cells": [
  {
   "cell_type": "code",
   "execution_count": 50,
   "id": "1fd0b452",
   "metadata": {},
   "outputs": [],
   "source": [
    "import requests\n",
    "import os\n",
    "import sys\n",
    "import datetime\n",
    "import pytz\n",
    "import yaml\n",
    "import pandas as pd"
   ]
  },
  {
   "cell_type": "code",
   "execution_count": 51,
   "id": "3f505e86",
   "metadata": {},
   "outputs": [],
   "source": [
    "if '../' not in sys.path:\n",
    "    sys.path.append('../')\n",
    " "
   ]
  },
  {
   "cell_type": "code",
   "execution_count": 52,
   "id": "60084060",
   "metadata": {},
   "outputs": [],
   "source": [
    "   from flexlab.db_layer.db_interface import DB_Interface"
   ]
  },
  {
   "cell_type": "code",
   "execution_count": 53,
   "id": "33fdfa2f",
   "metadata": {},
   "outputs": [],
   "source": [
    "def send_simple_message(api_key, recipients, message):\n",
    "    return requests.post(\n",
    "        \"https://api.mailgun.net/v3/sandbox244efac4658643d69658912e514bddb1.mailgun.org/messages\",\n",
    "        auth=(\"api\", api_key),\n",
    "        data={\"from\": \"Excited User <akprakash@lbl.gov>\",\n",
    "            \"to\": recipients,\n",
    "            \"subject\": \"Missing data alert\",\n",
    "            \"text\": message})"
   ]
  },
  {
   "cell_type": "code",
   "execution_count": 54,
   "id": "21c7de1b",
   "metadata": {},
   "outputs": [
    {
     "name": "stdout",
     "output_type": "stream",
     "text": [
      "The following columns have been constant for cell 1a for the last 30min:\n",
      "1A-VAV1-OccupiedCoolingSetpt, 1A-VAV1-UnoccupiedCoolingSetpt, 1A-VAV1-OccupiedHeatingSetpt, 1A-VAV1-UnoccupiedHeatingSetpt, 1A-VAV2-OccupiedCoolingSetpt, 1A-VAV2-UnoccupiedHeatingSetpt, 1A-VAV2-UnoccupiedCoolingSetpt, 1A-VAV2-OccupiedHeatingSetpt, 1A-VAV3-OccupiedCoolingSetpt, 1A-VAV3-UnoccupiedHeatingSetpt, 1A-VAV3-UnoccupiedCoolingSetpt, 1A-VAV3-OccupiedHeatingSetpt\n",
      "The following columns have been constant for cell 1b for the last 30min:\n",
      "1B-VAV1-UnoccupiedCoolingSetpt, 1B-VAV1-OccupiedHeatingSetpt, 1B-VAV1-UnoccupiedHeatingSetpt, 1B-VAV2-UnoccupiedHeatingSetpt, 1B-VAV2-UnoccupiedCoolingSetpt, 1B-VAV2-OccupiedHeatingSetpt, 1B-VAV3-UnoccupiedHeatingSetpt, 1B-VAV3-UnoccupiedCoolingSetpt, 1B-VAV3-OccupiedHeatingSetpt\n",
      "\n",
      "None\n",
      "error sending alert: b'Forbidden'\n"
     ]
    }
   ],
   "source": [
    "if __name__ == \"__main__\":\n",
    "\n",
    "    with open(\"db_interface_config_template_metrics.yaml\") as fp:\n",
    "    # original file: \"alerts_config.yaml\" \n",
    "        config = yaml.safe_load(fp)\n",
    "\n",
    "    api_key = config.get('api_key')\n",
    "    recipients = config.get('recipients')\n",
    "\n",
    "    tz_local = pytz.timezone(\"US/Pacific\")\n",
    "    tz_utc = pytz.timezone(\"UTC\")\n",
    "\n",
    "    db = DB_Interface(config_file='db_interface_config_template_metrics.yaml')\n",
    "    # original file: \"db_interface_config_alerts.yaml\"\n",
    "\n",
    "    et_utc = tz_utc.localize(datetime.datetime.utcnow())\n",
    "    et_local = et_utc.astimezone(tz_local)\n",
    "    st_local = et_local - datetime.timedelta(minutes=30)\n",
    "    \n",
    "    # Weiping changes the next 2 lines\n",
    "    #st_local = et_local - datetime.timedelta(hours=50)\n",
    "    #et_local = et_local - datetime.timedelta(hours=42)\n",
    "\n",
    "    points_dict = {\n",
    "        '1a': ['desk1_plug_power', 'desk2_plug_power', 'desk3_plug_power', 'desk4_plug_power', 'desk5_plug_power',\n",
    "               'desk6_plug_power', 'desk3_light_power', 'desk4_light_power', 'desk2_light_power', 'desk1_6_light_power',\n",
    "               'desk5_light_power', '1A-VAV1-Zn_Temp', '1A-VAV2-Zn_Temp', '1A-VAV3-Zn_Temp',\n",
    "               '1A-VAV1-OccupiedCoolingSetpt', '1A-VAV1-UnoccupiedCoolingSetpt', '1A-VAV1-OccupiedHeatingSetpt',\n",
    "               '1A-VAV1-UnoccupiedHeatingSetpt', '1A-VAV2-OccupiedCoolingSetpt', '1A-VAV2-UnoccupiedHeatingSetpt',\n",
    "               '1A-VAV2-UnoccupiedCoolingSetpt', '1A-VAV2-OccupiedHeatingSetpt', '1A-VAV3-OccupiedCoolingSetpt',\n",
    "               '1A-VAV3-UnoccupiedHeatingSetpt', '1A-VAV3-UnoccupiedCoolingSetpt', '1A-VAV3-OccupiedHeatingSetpt',\n",
    "               '1A-El-AHU', '1A-El-CHWP', '1A-El-HWP', '1A-El-Exhaust Fan', '1A-Th-Chilled Water', '1A-OAT-1',\n",
    "               '1A-MidZone-TCS6-DBT', '1A-NorthZone-DBT', '1A-WindowZone-TCS7-DBT', '1A-VAV1-DischargeAirTemp',\n",
    "               '1A-VAV2-DischargeAirTemp', '1A-VAV3-DischargeAirTemp', '1A-VAV1-DischargeAirflow',\n",
    "               '1A-VAV2-DischargeAirflow', '1A-VAV3-DischargeAirflow', '1A-ASAM-1', '1A-ARAM-1', '1A-SAT-1',\n",
    "               '1A-OADA-1-POSN', '1A-RADA-1-POSN'],\n",
    "\n",
    "        '1b': ['desk3_light_power', 'desk1_light_power', 'desk5_light_power', 'desk2_light_power', 'desk6_light_power',\n",
    "               'desk4_light_power', 'desk1_plug_power', 'desk2_plug_power', 'desk3_plug_power', 'desk4_plug_power',\n",
    "               'desk5_plug_power', 'desk6_plug_power', '1B-VAV1-Zn_Temp', '1B-VAV2-Zn_Temp', '1B-VAV3-Zn_Temp',\n",
    "               '1B-VAV1-OccupiedCoolingSetpt', '1B-VAV1-UnoccupiedCoolingSetpt', '1B-VAV1-OccupiedHeatingSetpt',\n",
    "               '1B-VAV1-UnoccupiedHeatingSetpt', '1B-VAV2-OccupiedCoolingSetpt', '1B-VAV2-UnoccupiedHeatingSetpt',\n",
    "               '1B-VAV2-UnoccupiedCoolingSetpt', '1B-VAV2-OccupiedHeatingSetpt', '1B-VAV3-OccupiedCoolingSetpt',\n",
    "               '1B-VAV3-UnoccupiedHeatingSetpt', '1B-VAV3-UnoccupiedCoolingSetpt', '1B-VAV3-OccupiedHeatingSetpt',\n",
    "               '1B-El-AHU', '1B-El-CHWP', '1B-El-Exhaust Fan', '1B-El-HWP', '1B-Th-Chilled Water', '1B-OAT-1',\n",
    "               '1B-MidZone-TCS9-DBT', '1B-NorthZone-DBT', '1B-WindowZone-TCS10-DBT', '1B-VAV1-DischargeAirTemp',\n",
    "               '1B-VAV2-DischargeAirTemp', '1B-VAV3-DischargeAirTemp', '1B-VAV1-DischargeAirflow',\n",
    "               '1B-VAV2-DischargeAirflow', '1B-VAV3-DischargeAirflow', '1B-ASAM-1', '1B-ARAM-1', '1B-SAT-1',\n",
    "               '1B-OADA-1-POSN', '1B-RADA-1-POSN']\n",
    "    }\n",
    "\n",
    "    constant_cols_dict = {'1a': [], '1b': []}\n",
    "    for cell in ['1a', '1b']:\n",
    "        cell_df=db.get_data(st=st_local, et=et_local, cell=cell)\n",
    "\n",
    "        points_list = points_dict.get(cell)\n",
    "        for col in points_list:\n",
    "            if col in cell_df.columns:\n",
    "                if cell_df[col].eq(cell_df[col].iloc[0]).all(): # return true if all values in the column is the same\n",
    "                    constant_cols_dict[cell].append(col)\n",
    "            else:\n",
    "                constant_cols_dict[cell].append(col)\n",
    "\n",
    "    constant = False\n",
    "    msg = \"\"\n",
    "    for cell in constant_cols_dict:\n",
    "        constant_cols = constant_cols_dict[cell]\n",
    "        if len(constant_cols) > 0:\n",
    "            constant = True\n",
    "\n",
    "            if len(constant_cols) > 0:\n",
    "                msg += \"The following columns have been constant for cell {0} for the last 30min:\".format(cell)\n",
    "                msg += '\\n' + ', '.join(constant_cols) + '\\n'\n",
    "\n",
    "    if constant:\n",
    "        print(msg)\n",
    "        print(recipients)\n",
    "        rsp = send_simple_message(api_key=api_key, recipients=recipients, message=msg)\n",
    "\n",
    "        if rsp.status_code == 200:\n",
    "            print(\"successfully sent alert\")\n",
    "        else:\n",
    "            print(\"error sending alert: \"+ str(rsp.content))\n",
    "    else:\n",
    "        print(\"no constant columns\")"
   ]
  },
  {
   "cell_type": "markdown",
   "id": "a3307335",
   "metadata": {},
   "source": [
    "# Check constant example"
   ]
  },
  {
   "cell_type": "code",
   "execution_count": 55,
   "id": "ecdb0227",
   "metadata": {},
   "outputs": [],
   "source": [
    "cell_1a_df=db.get_data(st=st_local, et=et_local, cell='1a') # cell can be '1a' or '1b'\n"
   ]
  },
  {
   "cell_type": "code",
   "execution_count": 56,
   "id": "5a84c659",
   "metadata": {},
   "outputs": [],
   "source": [
    "cell_1b_df=db.get_data(st=st_local, et=et_local, cell='1b') # cell can be '1a' or '1b'\n"
   ]
  },
  {
   "cell_type": "code",
   "execution_count": 57,
   "id": "5d90c00f",
   "metadata": {},
   "outputs": [
    {
     "name": "stdout",
     "output_type": "stream",
     "text": [
      "time\n",
      "2021-09-22 18:15:00    65.0\n",
      "2021-09-22 18:30:00    65.0\n",
      "2021-09-22 18:45:00    65.0\n",
      "2021-09-22 19:00:00    65.0\n",
      "2021-09-22 19:15:00    65.0\n",
      "2021-09-22 19:30:00    65.0\n",
      "2021-09-22 19:45:00    65.0\n",
      "2021-09-22 20:00:00    65.0\n",
      "2021-09-22 20:15:00    65.0\n",
      "2021-09-22 20:30:00    65.0\n",
      "2021-09-22 20:45:00    65.0\n",
      "2021-09-22 21:00:00    65.0\n",
      "2021-09-22 21:15:00    65.0\n",
      "2021-09-22 21:30:00    65.0\n",
      "2021-09-22 21:45:00    65.0\n",
      "Freq: 15T, Name: 1B-VAV2-UnoccupiedHeatingSetpt, dtype: float64\n"
     ]
    }
   ],
   "source": [
    "df1=cell_1b_df['1B-VAV2-UnoccupiedHeatingSetpt']\n",
    "print(df1.tail(15))"
   ]
  },
  {
   "cell_type": "code",
   "execution_count": 58,
   "id": "62343a0a",
   "metadata": {},
   "outputs": [
    {
     "name": "stdout",
     "output_type": "stream",
     "text": [
      "True\n"
     ]
    }
   ],
   "source": [
    "print (df1.eq(df1.iloc[0]).all()) # return true if all values in the column is the same"
   ]
  },
  {
   "cell_type": "code",
   "execution_count": null,
   "id": "c5f026ee",
   "metadata": {},
   "outputs": [],
   "source": []
  },
  {
   "cell_type": "code",
   "execution_count": null,
   "id": "e99555e1",
   "metadata": {},
   "outputs": [],
   "source": []
  },
  {
   "cell_type": "code",
   "execution_count": null,
   "id": "e80d0e5a",
   "metadata": {},
   "outputs": [],
   "source": []
  },
  {
   "cell_type": "code",
   "execution_count": null,
   "id": "416b381e",
   "metadata": {},
   "outputs": [],
   "source": []
  }
 ],
 "metadata": {
  "kernelspec": {
   "display_name": "Python 3",
   "language": "python",
   "name": "python3"
  },
  "language_info": {
   "codemirror_mode": {
    "name": "ipython",
    "version": 3
   },
   "file_extension": ".py",
   "mimetype": "text/x-python",
   "name": "python",
   "nbconvert_exporter": "python",
   "pygments_lexer": "ipython3",
   "version": "3.8.8"
  }
 },
 "nbformat": 4,
 "nbformat_minor": 5
}
