{
 "cells": [
  {
   "cell_type": "code",
   "execution_count": 42,
   "metadata": {},
   "outputs": [],
   "source": [
    "import os\n",
    "import sys\n",
    "import datetime\n",
    "import pytz\n",
    "import pandas as pd\n",
    "if '../' not in sys.path:\n",
    "    sys.path.append('../')"
   ]
  },
  {
   "cell_type": "code",
   "execution_count": 31,
   "metadata": {},
   "outputs": [],
   "source": [
    "from flexlab.db_layer.db_interface import DB_Interface"
   ]
  },
  {
   "cell_type": "code",
   "execution_count": 32,
   "metadata": {},
   "outputs": [],
   "source": [
    "tz_local = pytz.timezone(\"US/Pacific\")\n",
    "tz_utc = pytz.timezone(\"UTC\")"
   ]
  },
  {
   "cell_type": "code",
   "execution_count": 33,
   "metadata": {},
   "outputs": [],
   "source": [
    "db = DB_Interface(config_file='db_interface_config_template_metrics.yaml')"
   ]
  },
  {
   "cell_type": "code",
   "execution_count": 67,
   "metadata": {},
   "outputs": [],
   "source": [
    "delta=16\n",
    "\n",
    "et_utc = tz_utc.localize(datetime.datetime.utcnow())\n",
    "et_local = et_utc.astimezone(tz_local)\n",
    "\n",
    "st_local = et_local - datetime.timedelta(hours=delta)\n",
    "\n",
    "threshold_var=delta*4"
   ]
  },
  {
   "cell_type": "code",
   "execution_count": 68,
   "metadata": {},
   "outputs": [
    {
     "data": {
      "text/plain": [
       "datetime.datetime(2021, 9, 10, 8, 38, 35, 550836, tzinfo=<DstTzInfo 'US/Pacific' PDT-1 day, 17:00:00 DST>)"
      ]
     },
     "execution_count": 68,
     "metadata": {},
     "output_type": "execute_result"
    }
   ],
   "source": [
    "st_local"
   ]
  },
  {
   "cell_type": "code",
   "execution_count": 69,
   "metadata": {},
   "outputs": [
    {
     "data": {
      "text/plain": [
       "time\n",
       "2021-09-10 08:45:00    18.333333\n",
       "2021-09-10 09:00:00    18.333333\n",
       "2021-09-10 09:15:00    18.333333\n",
       "2021-09-10 09:30:00    18.333333\n",
       "2021-09-10 09:45:00    18.333333\n",
       "2021-09-10 10:00:00    18.333333\n",
       "2021-09-10 10:15:00    18.333333\n",
       "2021-09-10 10:30:00    17.666668\n",
       "2021-09-10 10:45:00    16.000006\n",
       "2021-09-10 11:00:00    16.000010\n",
       "2021-09-10 11:15:00    14.666680\n",
       "2021-09-10 11:30:00    14.666684\n",
       "2021-09-10 11:45:00    15.083355\n",
       "2021-09-10 12:00:00    14.583359\n",
       "2021-09-10 12:15:00    13.750028\n",
       "2021-09-10 12:30:00    13.333363\n",
       "2021-09-10 12:45:00          NaN\n",
       "Freq: 15T, Name: 1A-SAT-SP, dtype: float64"
      ]
     },
     "execution_count": 69,
     "metadata": {},
     "output_type": "execute_result"
    }
   ],
   "source": [
    "cell_1a_df=db.get_data(st=st_local, et=et_local, cell='1a') # cell can be '1a' or '1b'\n",
    "\n",
    "cell_1a_df['1A-SAT-SP']\n",
    "\n",
    "\n",
    "\n"
   ]
  },
  {
   "cell_type": "code",
   "execution_count": 70,
   "metadata": {},
   "outputs": [
    {
     "data": {
      "text/plain": [
       "<bound method Series.diff of time\n",
       "2021-09-10 08:45:00    1\n",
       "2021-09-10 09:00:00    1\n",
       "2021-09-10 09:15:00    1\n",
       "2021-09-10 09:30:00    1\n",
       "2021-09-10 09:45:00    1\n",
       "2021-09-10 10:00:00    1\n",
       "2021-09-10 10:15:00    1\n",
       "2021-09-10 10:30:00    1\n",
       "2021-09-10 10:45:00    1\n",
       "2021-09-10 11:00:00    1\n",
       "2021-09-10 11:15:00    1\n",
       "2021-09-10 11:30:00    1\n",
       "2021-09-10 11:45:00    1\n",
       "2021-09-10 12:00:00    0\n",
       "2021-09-10 12:15:00    0\n",
       "2021-09-10 12:30:00    0\n",
       "2021-09-10 12:45:00    0\n",
       "Freq: 15T, Name: 1B-SAT-SP_flag, dtype: int64>"
      ]
     },
     "execution_count": 70,
     "metadata": {},
     "output_type": "execute_result"
    }
   ],
   "source": [
    "### SET CONDITION FOR ALERT AND CREATE FLAG\n",
    "\n",
    "\n",
    "cell_1b_df=db.get_data(st=st_local, et=et_local, cell='1b') # cell can be '1a' or '1b'\n",
    "\n",
    "cell_1b_df['1B-SAT-SP']\n",
    "\n",
    "cell_1b_df['1B-SAT-SP_flag']=cell_1b_df['1B-SAT-SP']>15.0\n",
    "\n",
    "cell_1b_df['1B-SAT-SP_flag']=cell_1b_df['1B-SAT-SP_flag'].astype(int)\n",
    "\n",
    "df1=cell_1b_df['1B-SAT-SP_flag'].diff\n",
    "\n",
    "df1"
   ]
  },
  {
   "cell_type": "code",
   "execution_count": 75,
   "metadata": {},
   "outputs": [
    {
     "name": "stdout",
     "output_type": "stream",
     "text": [
      "OK\n"
     ]
    },
    {
     "data": {
      "image/png": "[encoded data removed]",
      "text/plain": [
       "<Figure size 1296x504 with 1 Axes>"
      ]
     },
     "metadata": {
      "needs_background": "light"
     },
     "output_type": "display_data"
    }
   ],
   "source": [
    "cell_1b_df['1B-SAT-SP_flag'].plot(figsize=(18,7), legend=True)\n",
    "\n",
    "if cell_1b_df['1B-SAT-SP_flag'].sum()>threshold_var:\n",
    "    print(cell_1b_df['1B-SAT-SP_flag'].sum())\n",
    "    print(alert)\n",
    "else:\n",
    "    print('OK')\n",
    "    \n",
    "#### NEXT STEP IS TO PUSH THIS FLAG - HOW CAN I PUSH FLAG TO GRAFANA PANEL TO SET UP ALERTS???"
   ]
  },
  {
   "cell_type": "code",
   "execution_count": null,
   "metadata": {},
   "outputs": [],
   "source": []
  }
 ],
 "metadata": {
  "kernelspec": {
   "display_name": "Python 3",
   "language": "python",
   "name": "python3"
  },
  "language_info": {
   "codemirror_mode": {
    "name": "ipython",
    "version": 3
   },
   "file_extension": ".py",
   "mimetype": "text/x-python",
   "name": "python",
   "nbconvert_exporter": "python",
   "pygments_lexer": "ipython3",
   "version": "3.8.8"
  }
 },
 "nbformat": 4,
 "nbformat_minor": 4
}
