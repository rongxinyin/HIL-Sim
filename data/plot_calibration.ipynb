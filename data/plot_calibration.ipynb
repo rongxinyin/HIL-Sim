{
 "cells": [
  {
   "cell_type": "code",
   "execution_count": 14,
   "id": "d6dfa774",
   "metadata": {},
   "outputs": [],
   "source": [
    "import matplotlib.pyplot as plt\n",
    "import numpy as np\n",
    "import pandas as pd\n",
    "\n"
   ]
  },
  {
   "cell_type": "code",
   "execution_count": 21,
   "id": "530549b9",
   "metadata": {},
   "outputs": [
    {
     "name": "stdout",
     "output_type": "stream",
     "text": [
      "     Sch occSch plu Sch lig Sch\n",
      "0    0.0     0%     40%      0%\n",
      "1    1.0     0%     40%      0%\n",
      "2    2.0     0%     40%      0%\n",
      "3    3.0     0%     40%      0%\n",
      "4    4.0     0%     40%      0%\n",
      "5    5.0     0%     40%      0%\n",
      "6    6.0     0%     40%      0%\n",
      "7    7.0     0%     40%     50%\n",
      "8    8.0    50%     90%     90%\n",
      "9    9.0   100%     90%     90%\n",
      "10  10.0   100%     90%     90%\n",
      "11  11.0   100%     90%     90%\n",
      "12  12.0   100%     80%     90%\n",
      "13  13.0    50%     90%     90%\n",
      "14  14.0   100%     90%     90%\n",
      "15  15.0   100%     90%     90%\n",
      "16  16.0   100%     90%     90%\n",
      "17  17.0   100%     50%     50%\n",
      "18  18.0    50%     40%     50%\n",
      "19  19.0     0%     40%     50%\n",
      "20  20.0     0%     40%     50%\n",
      "21  21.0     0%     40%      0%\n",
      "22  22.0     0%     40%      0%\n",
      "23  23.0     0%     40%      0%\n",
      "24   NaN    NaN     NaN     NaN\n",
      "     Sch occSch plu Sch lig Sch\n",
      "0    0.0     0%     40%      0%\n",
      "1    1.0     0%     40%      0%\n",
      "2    2.0     0%     40%      0%\n",
      "3    3.0     0%     40%      0%\n",
      "4    4.0     0%     40%      0%\n",
      "5    5.0     0%     40%      0%\n",
      "6    6.0     0%     40%      0%\n",
      "7    7.0     0%     40%     50%\n",
      "8    8.0    50%     90%     90%\n",
      "9    9.0   100%     90%     90%\n",
      "10  10.0   100%     90%     90%\n",
      "11  11.0   100%     90%     90%\n",
      "12  12.0   100%     80%     90%\n",
      "13  13.0    50%     90%     90%\n",
      "14  14.0   100%     90%     90%\n",
      "15  15.0   100%     90%     90%\n",
      "16  16.0   100%     90%     90%\n",
      "17  17.0   100%     50%     50%\n",
      "18  18.0    50%     40%     50%\n",
      "19  19.0     0%     40%     50%\n",
      "20  20.0     0%     40%     50%\n",
      "21  21.0     0%     40%      0%\n",
      "22  22.0     0%     40%      0%\n",
      "23  23.0     0%     40%      0%\n"
     ]
    }
   ],
   "source": [
    "df=pd.read_csv('from_model.csv')\n",
    "print(df)\n",
    "df=df.dropna()\n",
    "print(df)\n",
    "\n"
   ]
  },
  {
   "cell_type": "code",
   "execution_count": 22,
   "id": "45b2a24e",
   "metadata": {},
   "outputs": [
    {
     "data": {
      "text/plain": [
       "Sch        float64\n",
       "occSch      object\n",
       "plu Sch     object\n",
       "lig Sch     object\n",
       "dtype: object"
      ]
     },
     "execution_count": 22,
     "metadata": {},
     "output_type": "execute_result"
    }
   ],
   "source": [
    "df.dtypes"
   ]
  },
  {
   "cell_type": "code",
   "execution_count": 23,
   "id": "47f73da9",
   "metadata": {},
   "outputs": [
    {
     "name": "stdout",
     "output_type": "stream",
     "text": [
      "     Sch occSch plu Sch lig Sch\n",
      "0    0.0      0      40       0\n",
      "1    1.0      0      40       0\n",
      "2    2.0      0      40       0\n",
      "3    3.0      0      40       0\n",
      "4    4.0      0      40       0\n",
      "5    5.0      0      40       0\n",
      "6    6.0      0      40       0\n",
      "7    7.0      0      40      50\n",
      "8    8.0     50      90      90\n",
      "9    9.0    100      90      90\n",
      "10  10.0    100      90      90\n",
      "11  11.0    100      90      90\n",
      "12  12.0    100      80      90\n",
      "13  13.0     50      90      90\n",
      "14  14.0    100      90      90\n",
      "15  15.0    100      90      90\n",
      "16  16.0    100      90      90\n",
      "17  17.0    100      50      50\n",
      "18  18.0     50      40      50\n",
      "19  19.0      0      40      50\n",
      "20  20.0      0      40      50\n",
      "21  21.0      0      40       0\n",
      "22  22.0      0      40       0\n",
      "23  23.0      0      40       0\n"
     ]
    }
   ],
   "source": [
    "df.iloc[:,1] = df.iloc[:,1].str.replace('%', '')\n",
    "df.iloc[:,2] = df.iloc[:,2].str.replace('%', '')\n",
    "df.iloc[:,3] = df.iloc[:,3].str.replace('%', '')\n",
    "print(df)"
   ]
  },
  {
   "cell_type": "code",
   "execution_count": 24,
   "id": "662b8d65",
   "metadata": {},
   "outputs": [
    {
     "data": {
      "text/plain": [
       "Sch        float64\n",
       "occSch       int64\n",
       "plu Sch      int64\n",
       "lig Sch      int64\n",
       "dtype: object"
      ]
     },
     "execution_count": 24,
     "metadata": {},
     "output_type": "execute_result"
    }
   ],
   "source": [
    "df.iloc[:,1] = df.iloc[:,1].astype('int')\n",
    "df.iloc[:,2] = df.iloc[:,2].astype('int')\n",
    "df.iloc[:,3] = df.iloc[:,3].astype('int')\n",
    "df.dtypes"
   ]
  },
  {
   "cell_type": "code",
   "execution_count": 25,
   "id": "6fe7be3a",
   "metadata": {},
   "outputs": [
    {
     "name": "stdout",
     "output_type": "stream",
     "text": [
      "     Sch  occSch  plu Sch  lig Sch\n",
      "0    0.0       0       40        0\n",
      "1    1.0       0       40        0\n",
      "2    2.0       0       40        0\n",
      "3    3.0       0       40        0\n",
      "4    4.0       0       40        0\n",
      "5    5.0       0       40        0\n",
      "6    6.0       0       40        0\n",
      "7    7.0       0       40       50\n",
      "8    8.0      50       90       90\n",
      "9    9.0     100       90       90\n",
      "10  10.0     100       90       90\n",
      "11  11.0     100       90       90\n",
      "12  12.0     100       80       90\n",
      "13  13.0      50       90       90\n",
      "14  14.0     100       90       90\n",
      "15  15.0     100       90       90\n",
      "16  16.0     100       90       90\n",
      "17  17.0     100       50       50\n",
      "18  18.0      50       40       50\n",
      "19  19.0       0       40       50\n",
      "20  20.0       0       40       50\n",
      "21  21.0       0       40        0\n",
      "22  22.0       0       40        0\n",
      "23  23.0       0       40        0\n"
     ]
    }
   ],
   "source": [
    "print(df)"
   ]
  },
  {
   "cell_type": "code",
   "execution_count": null,
   "id": "b8bb06fe",
   "metadata": {},
   "outputs": [],
   "source": []
  },
  {
   "cell_type": "code",
   "execution_count": null,
   "id": "e29ddfb4",
   "metadata": {},
   "outputs": [],
   "source": []
  },
  {
   "cell_type": "code",
   "execution_count": null,
   "id": "33b906f2",
   "metadata": {},
   "outputs": [],
   "source": []
  },
  {
   "cell_type": "code",
   "execution_count": null,
   "id": "2215b68a",
   "metadata": {},
   "outputs": [],
   "source": []
  },
  {
   "cell_type": "code",
   "execution_count": null,
   "id": "8f5e0b73",
   "metadata": {},
   "outputs": [],
   "source": []
  },
  {
   "cell_type": "code",
   "execution_count": null,
   "id": "4e049876",
   "metadata": {},
   "outputs": [],
   "source": []
  },
  {
   "cell_type": "code",
   "execution_count": null,
   "id": "8f6e5dc5",
   "metadata": {},
   "outputs": [],
   "source": []
  },
  {
   "cell_type": "code",
   "execution_count": null,
   "id": "5c5c22a7",
   "metadata": {},
   "outputs": [],
   "source": []
  },
  {
   "cell_type": "code",
   "execution_count": 26,
   "id": "56305672",
   "metadata": {},
   "outputs": [
    {
     "name": "stdout",
     "output_type": "stream",
     "text": [
      "    Sch occSch plu Sch lig Sch\n",
      "0     0     0%     44%      0%\n",
      "1     1     0%     44%      0%\n",
      "2     2     0%     44%      0%\n",
      "3     3     0%     44%      0%\n",
      "4     4     0%     44%      0%\n",
      "5     5     0%     44%      0%\n",
      "6     6     0%     44%      0%\n",
      "7     7     0%     44%     50%\n",
      "8     8    50%    100%    100%\n",
      "9     9   100%    100%    100%\n",
      "10   10   100%    100%    100%\n",
      "11   11   100%    100%    100%\n",
      "12   12   100%     89%    100%\n",
      "13   13    50%    100%    100%\n",
      "14   14   100%    100%    100%\n",
      "15   15   100%    100%    100%\n",
      "16   16   100%    100%    100%\n",
      "17   17   100%     56%     50%\n",
      "18   18    50%     44%     50%\n",
      "19   19     0%     44%     50%\n",
      "20   20     0%     44%     50%\n",
      "21   21     0%     44%      0%\n",
      "22   22     0%     44%      0%\n",
      "23   23     0%     44%      0%\n"
     ]
    }
   ],
   "source": [
    "df2=pd.read_csv('from_test.csv')\n",
    "print(df2)"
   ]
  },
  {
   "cell_type": "code",
   "execution_count": 27,
   "id": "86946fdd",
   "metadata": {},
   "outputs": [
    {
     "name": "stdout",
     "output_type": "stream",
     "text": [
      "    Sch occSch plu Sch lig Sch\n",
      "0     0      0      44       0\n",
      "1     1      0      44       0\n",
      "2     2      0      44       0\n",
      "3     3      0      44       0\n",
      "4     4      0      44       0\n",
      "5     5      0      44       0\n",
      "6     6      0      44       0\n",
      "7     7      0      44      50\n",
      "8     8     50     100     100\n",
      "9     9    100     100     100\n",
      "10   10    100     100     100\n",
      "11   11    100     100     100\n",
      "12   12    100      89     100\n",
      "13   13     50     100     100\n",
      "14   14    100     100     100\n",
      "15   15    100     100     100\n",
      "16   16    100     100     100\n",
      "17   17    100      56      50\n",
      "18   18     50      44      50\n",
      "19   19      0      44      50\n",
      "20   20      0      44      50\n",
      "21   21      0      44       0\n",
      "22   22      0      44       0\n",
      "23   23      0      44       0\n"
     ]
    }
   ],
   "source": [
    "df2.iloc[:,1] = df2.iloc[:,1].str.replace('%', '')\n",
    "df2.iloc[:,2] = df2.iloc[:,2].str.replace('%', '')\n",
    "df2.iloc[:,3] = df2.iloc[:,3].str.replace('%', '')\n",
    "print(df2)"
   ]
  },
  {
   "cell_type": "code",
   "execution_count": 28,
   "id": "1c1715fd",
   "metadata": {},
   "outputs": [
    {
     "data": {
      "text/plain": [
       "Sch        int64\n",
       "occSch     int64\n",
       "plu Sch    int64\n",
       "lig Sch    int64\n",
       "dtype: object"
      ]
     },
     "execution_count": 28,
     "metadata": {},
     "output_type": "execute_result"
    }
   ],
   "source": [
    "df2.iloc[:,1] = df2.iloc[:,1].astype('int')\n",
    "df2.iloc[:,2] = df2.iloc[:,2].astype('int')\n",
    "df2.iloc[:,3] = df2.iloc[:,3].astype('int')\n",
    "df2.dtypes"
   ]
  },
  {
   "cell_type": "code",
   "execution_count": 29,
   "id": "35051abe",
   "metadata": {},
   "outputs": [
    {
     "name": "stdout",
     "output_type": "stream",
     "text": [
      "    Sch  occSch  plu Sch  lig Sch\n",
      "0     0       0       44        0\n",
      "1     1       0       44        0\n",
      "2     2       0       44        0\n",
      "3     3       0       44        0\n",
      "4     4       0       44        0\n",
      "5     5       0       44        0\n",
      "6     6       0       44        0\n",
      "7     7       0       44       50\n",
      "8     8      50      100      100\n",
      "9     9     100      100      100\n",
      "10   10     100      100      100\n",
      "11   11     100      100      100\n",
      "12   12     100       89      100\n",
      "13   13      50      100      100\n",
      "14   14     100      100      100\n",
      "15   15     100      100      100\n",
      "16   16     100      100      100\n",
      "17   17     100       56       50\n",
      "18   18      50       44       50\n",
      "19   19       0       44       50\n",
      "20   20       0       44       50\n",
      "21   21       0       44        0\n",
      "22   22       0       44        0\n",
      "23   23       0       44        0\n"
     ]
    }
   ],
   "source": [
    "print(df2)"
   ]
  },
  {
   "cell_type": "code",
   "execution_count": 33,
   "id": "7e40c77d",
   "metadata": {},
   "outputs": [
    {
     "name": "stderr",
     "output_type": "stream",
     "text": [
      "<ipython-input-33-d48f4fae5bea>:13: UserWarning: This figure was using constrained_layout==True, but that is incompatible with subplots_adjust and or tight_layout: setting constrained_layout==False. \n",
      "  fig.subplots_adjust(hspace = .2, wspace=.15)\n"
     ]
    },
    {
     "data": {
      "text/plain": [
       "Text(0.5, 1.0, 'Internal Load Scheduling (%)')"
      ]
     },
     "execution_count": 33,
     "metadata": {},
     "output_type": "execute_result"
    },
    {
     "data": {
      "image/png": "[encoded data removed]",
      "text/plain": [
       "<Figure size 1152x720 with 3 Axes>"
      ]
     },
     "metadata": {},
     "output_type": "display_data"
    }
   ],
   "source": [
    "\n",
    "import datetime as dt\n",
    "import datetime\n",
    "import matplotlib\n",
    "import matplotlib.pyplot as plt\n",
    "import seaborn as sns\n",
    "\n",
    "\n",
    "sns.set_style('darkgrid')\n",
    "sns.set_context('paper')\n",
    "sns.set_context('notebook')\n",
    "\n",
    "fig, (ax, ax1, ax2) = plt.subplots(nrows = 3, ncols = 1, constrained_layout=True, facecolor='w', edgecolor='k',figsize = (16,10))\n",
    "fig.subplots_adjust(hspace = .2, wspace=.15)\n",
    "\n",
    "ax.plot(df['occSch'], label = 'Model - Occupancy')\n",
    "ax1.plot(df['plu Sch'], label = 'Model - Plug Loads')\n",
    "ax2.plot(df['lig Sch'], label = 'Model - Lighting')\n",
    "\n",
    "ax.plot(df2['occSch'], label = 'Test - Occupancy')\n",
    "ax1.plot(df2['plu Sch'], label = 'Test - Plug Loads')\n",
    "ax2.plot(df2['lig Sch'], label = 'Test - Lighting')\n",
    "\n",
    "\n",
    "ax.set_ylabel('% of Max (%)', fontsize = 10)\n",
    "ax1.set_ylabel('% of Max (%)', fontsize = 10)\n",
    "ax2.set_ylabel('% of Max (%)', fontsize = 10)\n",
    "\n",
    "#ax.set_ylabel('Airflow (cfm)', fontsize = 10)\n",
    "#ax1.set_ylabel('Airflow (cfm)', fontsize = 10)\n",
    "#ax2.set_ylabel('Airflow (cfm)', fontsize = 10)\n",
    "\n",
    "#ax.set_ylim(70,90)\n",
    "ax1.set_ylim(0,105)\n",
    "#ax2.set_ylim(70,90)\n",
    "ax.legend(fontsize = 10, loc = 2)\n",
    "ax1.legend(fontsize = 10, loc = 2)\n",
    "ax2.legend(fontsize = 10, loc = 2)\n",
    "#ax.set_title('VAV zone air flowrate (cfm)', fontsize = 18)\n",
    "#ax.set_title('VAV zone discharge air temperature (deg F)', fontsize = 18)\n",
    "ax.set_title('VAV zone temperature SP (deg F)', fontsize = 18)\n",
    "\n",
    "ax.set_title('Internal Load Scheduling (%)', fontsize = 18)\n",
    "\n",
    "\n",
    "\n",
    "\n",
    "\n",
    "\n",
    "\n",
    "\n",
    "\n",
    "\n"
   ]
  },
  {
   "cell_type": "code",
   "execution_count": null,
   "id": "13521c3e",
   "metadata": {},
   "outputs": [],
   "source": [
    "df.iloc[:,1].plot(kind='line',figsize=(15,8),legend=True,label='occSch model', color='blue')\n",
    "df.iloc[:,2].plot(kind='line',figsize=(15,8),legend=True,label='plu Sch model', color='green')\n",
    "df.iloc[:,3].plot(kind='line',figsize=(15,8),legend=True,label='lig Sch model', color='orange')\n",
    "\n",
    "df2.iloc[:,1].plot(kind='line',figsize=(15,8),legend=True,label='occSch2 test', color='blue',linestyle='dashed',linewidth=3)\n",
    "df2.iloc[:,2].plot(kind='line',figsize=(15,8),legend=True,label='plu Sch2 test', color='green',linestyle='dashed',linewidth=3)\n",
    "df2.iloc[:,3].plot(kind='line',figsize=(15,8),legend=True,label='lig Sch2 test', color='orange',linestyle='dashed',linewidth=3)\n",
    "\n",
    "plt.title('from_model',fontsize=20)\n",
    "plt.xlabel('Time of Day (hour)',fontsize=15)\n",
    "plt.ylabel('Percentage (%)',fontsize=15)\n",
    "plt.legend(fontsize=13,bbox_to_anchor=(1, 1), loc=1)\n",
    "plt.xlim([0,24])\n",
    "\n",
    "plt.show()"
   ]
  },
  {
   "cell_type": "code",
   "execution_count": null,
   "id": "c3cbe8b6",
   "metadata": {},
   "outputs": [],
   "source": [
    "# plt.savefig('plot.png', dpi=300, bbox_inches='tight') # save figure"
   ]
  },
  {
   "cell_type": "code",
   "execution_count": null,
   "id": "62c90916",
   "metadata": {},
   "outputs": [],
   "source": []
  }
 ],
 "metadata": {
  "kernelspec": {
   "display_name": "Python 3",
   "language": "python",
   "name": "python3"
  },
  "language_info": {
   "codemirror_mode": {
    "name": "ipython",
    "version": 3
   },
   "file_extension": ".py",
   "mimetype": "text/x-python",
   "name": "python",
   "nbconvert_exporter": "python",
   "pygments_lexer": "ipython3",
   "version": "3.8.8"
  }
 },
 "nbformat": 4,
 "nbformat_minor": 5
}
